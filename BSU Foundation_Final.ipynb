{
 "cells": [
  {
   "cell_type": "markdown",
   "id": "cf950eb2-f567-48da-885c-b8bfcc8ed2d8",
   "metadata": {},
   "source": [
    "# BSU Foundation Analysis"
   ]
  },
  {
   "cell_type": "code",
   "execution_count": 1,
   "id": "b33a94b0-7243-4fc7-ac65-f7ee3f5f3613",
   "metadata": {},
   "outputs": [],
   "source": [
    "#Import Python packages\n",
    "import pandas as pd\n",
    "import numpy as np\n",
    "import datetime\n",
    "import os\n",
    "import matplotlib.pyplot as plt"
   ]
  },
  {
   "cell_type": "markdown",
   "id": "e3551206-e0cc-47fc-8188-8eeb70510841",
   "metadata": {
    "tags": []
   },
   "source": [
    "## Import & Clean Data"
   ]
  },
  {
   "cell_type": "code",
   "execution_count": 2,
   "id": "f63ad86a-34ca-4153-8ca7-7459a9b55c14",
   "metadata": {},
   "outputs": [],
   "source": [
    "#Import Updated Gift Data\n",
    "gift_df = pd.read_csv('Donor Loyalty Project Gift Detail UPDATED 3-18-22.csv', engine = \"python\")"
   ]
  },
  {
   "cell_type": "code",
   "execution_count": 3,
   "id": "9382016e-8338-4d3f-b8ca-e7d3d03543b6",
   "metadata": {},
   "outputs": [
    {
     "data": {
      "text/html": [
       "<div>\n",
       "<style scoped>\n",
       "    .dataframe tbody tr th:only-of-type {\n",
       "        vertical-align: middle;\n",
       "    }\n",
       "\n",
       "    .dataframe tbody tr th {\n",
       "        vertical-align: top;\n",
       "    }\n",
       "\n",
       "    .dataframe thead th {\n",
       "        text-align: right;\n",
       "    }\n",
       "</style>\n",
       "<table border=\"1\" class=\"dataframe\">\n",
       "  <thead>\n",
       "    <tr style=\"text-align: right;\">\n",
       "      <th></th>\n",
       "      <th>Gift Date</th>\n",
       "      <th>Gift Amount</th>\n",
       "      <th>Gift Type</th>\n",
       "      <th>Soft Credit/Matching Gift Flag</th>\n",
       "      <th>Import ID</th>\n",
       "      <th>System Record ID</th>\n",
       "      <th>Fund ID</th>\n",
       "      <th>Fund Description</th>\n",
       "      <th>Fund Amount</th>\n",
       "      <th>Fund ID_1</th>\n",
       "      <th>...</th>\n",
       "      <th>Fund ID_2</th>\n",
       "      <th>Fund Description_2</th>\n",
       "      <th>Fund Amount_2</th>\n",
       "      <th>Fund ID_3</th>\n",
       "      <th>Fund Description_3</th>\n",
       "      <th>Fund Amount_3</th>\n",
       "      <th>Fund ID_4</th>\n",
       "      <th>Fund Description_4</th>\n",
       "      <th>Fund Amount_4</th>\n",
       "      <th>Gift Year</th>\n",
       "    </tr>\n",
       "  </thead>\n",
       "  <tbody>\n",
       "    <tr>\n",
       "      <th>0</th>\n",
       "      <td>2012-09-24</td>\n",
       "      <td>$50.00</td>\n",
       "      <td>MG Pay-Cash</td>\n",
       "      <td>Soft Credit Recipient</td>\n",
       "      <td>93578</td>\n",
       "      <td>60806</td>\n",
       "      <td>000010F</td>\n",
       "      <td>The Ball State Fund</td>\n",
       "      <td>$50.00</td>\n",
       "      <td>NaN</td>\n",
       "      <td>...</td>\n",
       "      <td>NaN</td>\n",
       "      <td>NaN</td>\n",
       "      <td>NaN</td>\n",
       "      <td>NaN</td>\n",
       "      <td>NaN</td>\n",
       "      <td>NaN</td>\n",
       "      <td>NaN</td>\n",
       "      <td>NaN</td>\n",
       "      <td>NaN</td>\n",
       "      <td>2012</td>\n",
       "    </tr>\n",
       "    <tr>\n",
       "      <th>1</th>\n",
       "      <td>2012-09-24</td>\n",
       "      <td>$50.00</td>\n",
       "      <td>MG Pledge</td>\n",
       "      <td>Soft Credit Recipient</td>\n",
       "      <td>93578</td>\n",
       "      <td>60806</td>\n",
       "      <td>000010F</td>\n",
       "      <td>The Ball State Fund</td>\n",
       "      <td>$50.00</td>\n",
       "      <td>NaN</td>\n",
       "      <td>...</td>\n",
       "      <td>NaN</td>\n",
       "      <td>NaN</td>\n",
       "      <td>NaN</td>\n",
       "      <td>NaN</td>\n",
       "      <td>NaN</td>\n",
       "      <td>NaN</td>\n",
       "      <td>NaN</td>\n",
       "      <td>NaN</td>\n",
       "      <td>NaN</td>\n",
       "      <td>2012</td>\n",
       "    </tr>\n",
       "    <tr>\n",
       "      <th>2</th>\n",
       "      <td>2014-04-03</td>\n",
       "      <td>$100.00</td>\n",
       "      <td>MG Pledge</td>\n",
       "      <td>Soft Credit Recipient</td>\n",
       "      <td>333458</td>\n",
       "      <td>249510</td>\n",
       "      <td>094010F</td>\n",
       "      <td>WIPB-TV</td>\n",
       "      <td>$100.00</td>\n",
       "      <td>NaN</td>\n",
       "      <td>...</td>\n",
       "      <td>NaN</td>\n",
       "      <td>NaN</td>\n",
       "      <td>NaN</td>\n",
       "      <td>NaN</td>\n",
       "      <td>NaN</td>\n",
       "      <td>NaN</td>\n",
       "      <td>NaN</td>\n",
       "      <td>NaN</td>\n",
       "      <td>NaN</td>\n",
       "      <td>2014</td>\n",
       "    </tr>\n",
       "  </tbody>\n",
       "</table>\n",
       "<p>3 rows × 22 columns</p>\n",
       "</div>"
      ],
      "text/plain": [
       "   Gift Date Gift Amount    Gift Type Soft Credit/Matching Gift Flag  \\\n",
       "0 2012-09-24     $50.00   MG Pay-Cash          Soft Credit Recipient   \n",
       "1 2012-09-24     $50.00     MG Pledge          Soft Credit Recipient   \n",
       "2 2014-04-03    $100.00     MG Pledge          Soft Credit Recipient   \n",
       "\n",
       "  Import ID  System Record ID  Fund ID     Fund Description Fund Amount  \\\n",
       "0     93578             60806  000010F  The Ball State Fund     $50.00    \n",
       "1     93578             60806  000010F  The Ball State Fund     $50.00    \n",
       "2    333458            249510  094010F              WIPB-TV    $100.00    \n",
       "\n",
       "  Fund ID_1  ... Fund ID_2 Fund Description_2 Fund Amount_2 Fund ID_3  \\\n",
       "0       NaN  ...       NaN                NaN           NaN       NaN   \n",
       "1       NaN  ...       NaN                NaN           NaN       NaN   \n",
       "2       NaN  ...       NaN                NaN           NaN       NaN   \n",
       "\n",
       "  Fund Description_3 Fund Amount_3 Fund ID_4 Fund Description_4 Fund Amount_4  \\\n",
       "0                NaN           NaN       NaN                NaN           NaN   \n",
       "1                NaN           NaN       NaN                NaN           NaN   \n",
       "2                NaN           NaN       NaN                NaN           NaN   \n",
       "\n",
       "  Gift Year  \n",
       "0      2012  \n",
       "1      2012  \n",
       "2      2014  \n",
       "\n",
       "[3 rows x 22 columns]"
      ]
     },
     "execution_count": 3,
     "metadata": {},
     "output_type": "execute_result"
    }
   ],
   "source": [
    "#Add new column to display Year wihin Gift Data\n",
    "gift_df['Gift Date']=pd.to_datetime(gift_df['Gift Date'])\n",
    "gift_df['Gift Year']=gift_df['Gift Date'].dt.year\n",
    "gift_df.head(3)"
   ]
  },
  {
   "cell_type": "code",
   "execution_count": 4,
   "id": "62821e25-3f9f-401a-b34e-5a0560876b11",
   "metadata": {},
   "outputs": [],
   "source": [
    "#Dealing with the Dollar Signs & Transforming the Data Types\n",
    "columns_to_change = gift_df.columns[gift_df.columns.str.contains(\"Amount\")] \n",
    "gift_df[columns_to_change] = gift_df[columns_to_change].replace({r\"\\$\": \"\", r\"\\,\":\"\"}, regex = True)\n",
    "\n",
    "dtypes_to_change = [\"Gift Amount\", \"Fund Amount\", \"Fund Amount_1\",\n",
    "                   \"Fund Amount_2\", \"Fund Amount_3\", \n",
    "                   \"Fund Amount_4\"]\n",
    "gift_df[dtypes_to_change] = gift_df[dtypes_to_change].astype(float)\n",
    "gift_df['Gift Date'] = pd.to_datetime(gift_df['Gift Date'])"
   ]
  },
  {
   "cell_type": "code",
   "execution_count": 5,
   "id": "d2f5ed64-2899-4393-9a28-ad7b27cfdb72",
   "metadata": {},
   "outputs": [
    {
     "data": {
      "text/html": [
       "<div>\n",
       "<style scoped>\n",
       "    .dataframe tbody tr th:only-of-type {\n",
       "        vertical-align: middle;\n",
       "    }\n",
       "\n",
       "    .dataframe tbody tr th {\n",
       "        vertical-align: top;\n",
       "    }\n",
       "\n",
       "    .dataframe thead th {\n",
       "        text-align: right;\n",
       "    }\n",
       "</style>\n",
       "<table border=\"1\" class=\"dataframe\">\n",
       "  <thead>\n",
       "    <tr style=\"text-align: right;\">\n",
       "      <th></th>\n",
       "      <th>Import ID</th>\n",
       "      <th>System Record ID</th>\n",
       "      <th>School Name</th>\n",
       "      <th>College</th>\n",
       "      <th>Department</th>\n",
       "      <th>Degree</th>\n",
       "      <th>Class of</th>\n",
       "      <th>Class Year of</th>\n",
       "      <th>Greek Affiliation</th>\n",
       "      <th>Major</th>\n",
       "      <th>...</th>\n",
       "      <th>Student Activity_35</th>\n",
       "      <th>Student Activity_36</th>\n",
       "      <th>Student Activity_37</th>\n",
       "      <th>Student Activity_38</th>\n",
       "      <th>Student Activity_39</th>\n",
       "      <th>Student Athlete_15</th>\n",
       "      <th>Student Athlete_16</th>\n",
       "      <th>Student Athlete_17</th>\n",
       "      <th>Student Athlete_18</th>\n",
       "      <th>Student Athlete_19</th>\n",
       "    </tr>\n",
       "  </thead>\n",
       "  <tbody>\n",
       "    <tr>\n",
       "      <th>0</th>\n",
       "      <td>132479</td>\n",
       "      <td>93620</td>\n",
       "      <td>Ball State University</td>\n",
       "      <td>CSH College of Sciences &amp; Humanities</td>\n",
       "      <td>Dept of Political Science</td>\n",
       "      <td>AA</td>\n",
       "      <td>'88</td>\n",
       "      <td>1988</td>\n",
       "      <td>NaN</td>\n",
       "      <td>517002 - Legal Assistance</td>\n",
       "      <td>...</td>\n",
       "      <td>NaN</td>\n",
       "      <td>NaN</td>\n",
       "      <td>NaN</td>\n",
       "      <td>NaN</td>\n",
       "      <td>NaN</td>\n",
       "      <td>NaN</td>\n",
       "      <td>NaN</td>\n",
       "      <td>NaN</td>\n",
       "      <td>NaN</td>\n",
       "      <td>NaN</td>\n",
       "    </tr>\n",
       "    <tr>\n",
       "      <th>1</th>\n",
       "      <td>132691</td>\n",
       "      <td>93805</td>\n",
       "      <td>Ball State University</td>\n",
       "      <td>TC Teachers College</td>\n",
       "      <td>Dept of Educational Leadership</td>\n",
       "      <td>MA</td>\n",
       "      <td>'08</td>\n",
       "      <td>2008</td>\n",
       "      <td>NaN</td>\n",
       "      <td>605001 - Adult &amp; Community Education</td>\n",
       "      <td>...</td>\n",
       "      <td>NaN</td>\n",
       "      <td>NaN</td>\n",
       "      <td>NaN</td>\n",
       "      <td>NaN</td>\n",
       "      <td>NaN</td>\n",
       "      <td>NaN</td>\n",
       "      <td>NaN</td>\n",
       "      <td>NaN</td>\n",
       "      <td>NaN</td>\n",
       "      <td>NaN</td>\n",
       "    </tr>\n",
       "    <tr>\n",
       "      <th>2</th>\n",
       "      <td>133466</td>\n",
       "      <td>93866</td>\n",
       "      <td>Ball State University</td>\n",
       "      <td>TC Teachers College</td>\n",
       "      <td>Dept of Educational Leadership</td>\n",
       "      <td>MAE</td>\n",
       "      <td>'07</td>\n",
       "      <td>2007</td>\n",
       "      <td>NaN</td>\n",
       "      <td>603001 - Educational Admin &amp; Suprvsn</td>\n",
       "      <td>...</td>\n",
       "      <td>NaN</td>\n",
       "      <td>NaN</td>\n",
       "      <td>NaN</td>\n",
       "      <td>NaN</td>\n",
       "      <td>NaN</td>\n",
       "      <td>NaN</td>\n",
       "      <td>NaN</td>\n",
       "      <td>NaN</td>\n",
       "      <td>NaN</td>\n",
       "      <td>NaN</td>\n",
       "    </tr>\n",
       "  </tbody>\n",
       "</table>\n",
       "<p>3 rows × 103 columns</p>\n",
       "</div>"
      ],
      "text/plain": [
       "  Import ID  System Record ID            School Name  \\\n",
       "0    132479             93620  Ball State University   \n",
       "1    132691             93805  Ball State University   \n",
       "2    133466             93866  Ball State University   \n",
       "\n",
       "                                College                      Department  \\\n",
       "0  CSH College of Sciences & Humanities       Dept of Political Science   \n",
       "1                   TC Teachers College  Dept of Educational Leadership   \n",
       "2                   TC Teachers College  Dept of Educational Leadership   \n",
       "\n",
       "  Degree Class of Class Year of Greek Affiliation  \\\n",
       "0     AA      '88          1988               NaN   \n",
       "1     MA      '08          2008               NaN   \n",
       "2    MAE      '07          2007               NaN   \n",
       "\n",
       "                                  Major  ... Student Activity_35  \\\n",
       "0             517002 - Legal Assistance  ...                 NaN   \n",
       "1  605001 - Adult & Community Education  ...                 NaN   \n",
       "2  603001 - Educational Admin & Suprvsn  ...                 NaN   \n",
       "\n",
       "  Student Activity_36 Student Activity_37 Student Activity_38  \\\n",
       "0                 NaN                 NaN                 NaN   \n",
       "1                 NaN                 NaN                 NaN   \n",
       "2                 NaN                 NaN                 NaN   \n",
       "\n",
       "  Student Activity_39 Student Athlete_15 Student Athlete_16  \\\n",
       "0                 NaN                NaN                NaN   \n",
       "1                 NaN                NaN                NaN   \n",
       "2                 NaN                NaN                NaN   \n",
       "\n",
       "  Student Athlete_17 Student Athlete_18 Student Athlete_19  \n",
       "0                NaN                NaN                NaN  \n",
       "1                NaN                NaN                NaN  \n",
       "2                NaN                NaN                NaN  \n",
       "\n",
       "[3 rows x 103 columns]"
      ]
     },
     "execution_count": 5,
     "metadata": {},
     "output_type": "execute_result"
    }
   ],
   "source": [
    "#Import Donor Loyalty Project Education.xlsx with \"Class Year of\" column from excel (turned '90 in to 1990, etc.)\n",
    "edu_df = pd.read_excel('Donor Loyalty Project Education-Years.xlsx')\n",
    "edu_df['Class Year of'] = edu_df['Class Year of'].astype(str).apply(lambda x: x.replace('.0',''))\n",
    "edu_df.head(3)"
   ]
  },
  {
   "cell_type": "code",
   "execution_count": 6,
   "id": "d573acff-9e08-4c29-9d08-a51fb4a4120e",
   "metadata": {},
   "outputs": [
    {
     "data": {
      "text/html": [
       "<div>\n",
       "<style scoped>\n",
       "    .dataframe tbody tr th:only-of-type {\n",
       "        vertical-align: middle;\n",
       "    }\n",
       "\n",
       "    .dataframe tbody tr th {\n",
       "        vertical-align: top;\n",
       "    }\n",
       "\n",
       "    .dataframe thead th {\n",
       "        text-align: right;\n",
       "    }\n",
       "</style>\n",
       "<table border=\"1\" class=\"dataframe\">\n",
       "  <thead>\n",
       "    <tr style=\"text-align: right;\">\n",
       "      <th></th>\n",
       "      <th>Import ID</th>\n",
       "      <th>System Record ID</th>\n",
       "      <th>Membership Category</th>\n",
       "      <th>Date Joined</th>\n",
       "      <th>Consecutive Years</th>\n",
       "      <th>Last Renewed Date</th>\n",
       "      <th>Last Dropped Date</th>\n",
       "      <th>Expires On Date</th>\n",
       "      <th>Year Joined</th>\n",
       "    </tr>\n",
       "  </thead>\n",
       "  <tbody>\n",
       "    <tr>\n",
       "      <th>0</th>\n",
       "      <td>132479</td>\n",
       "      <td>93620</td>\n",
       "      <td>Leaders and Loyals</td>\n",
       "      <td>2015-09-17</td>\n",
       "      <td>6</td>\n",
       "      <td>2021-07-02</td>\n",
       "      <td>NaN</td>\n",
       "      <td>2022-06-30</td>\n",
       "      <td>2015</td>\n",
       "    </tr>\n",
       "    <tr>\n",
       "      <th>1</th>\n",
       "      <td>132691</td>\n",
       "      <td>93805</td>\n",
       "      <td>Leaders and Loyals</td>\n",
       "      <td>2015-09-17</td>\n",
       "      <td>6</td>\n",
       "      <td>2021-07-02</td>\n",
       "      <td>NaN</td>\n",
       "      <td>2022-06-30</td>\n",
       "      <td>2015</td>\n",
       "    </tr>\n",
       "    <tr>\n",
       "      <th>2</th>\n",
       "      <td>133466</td>\n",
       "      <td>93866</td>\n",
       "      <td>Leaders and Loyals</td>\n",
       "      <td>2015-09-17</td>\n",
       "      <td>6</td>\n",
       "      <td>2021-07-20</td>\n",
       "      <td>NaN</td>\n",
       "      <td>2022-06-30</td>\n",
       "      <td>2015</td>\n",
       "    </tr>\n",
       "  </tbody>\n",
       "</table>\n",
       "</div>"
      ],
      "text/plain": [
       "  Import ID  System Record ID Membership Category Date Joined  \\\n",
       "0    132479             93620  Leaders and Loyals  2015-09-17   \n",
       "1    132691             93805  Leaders and Loyals  2015-09-17   \n",
       "2    133466             93866  Leaders and Loyals  2015-09-17   \n",
       "\n",
       "   Consecutive Years Last Renewed Date  Last Dropped Date Expires On Date  \\\n",
       "0                  6        2021-07-02                NaN      2022-06-30   \n",
       "1                  6        2021-07-02                NaN      2022-06-30   \n",
       "2                  6        2021-07-20                NaN      2022-06-30   \n",
       "\n",
       "   Year Joined  \n",
       "0         2015  \n",
       "1         2015  \n",
       "2         2015  "
      ]
     },
     "execution_count": 6,
     "metadata": {},
     "output_type": "execute_result"
    }
   ],
   "source": [
    "#Import Donor Loyalty Project Membership file with \"Year Joined\" (=YEAR(Date Joined) column in excel)\n",
    "memb_df = pd.read_excel('Donor Loyalty Project Membership.xlsx')\n",
    "memb_df['Date Joined']=pd.to_datetime(memb_df['Date Joined'])\n",
    "memb_df['Year Joined']=memb_df['Date Joined'].dt.year\n",
    "memb_df.head(3)"
   ]
  },
  {
   "cell_type": "code",
   "execution_count": 7,
   "id": "ee06c3f6-1260-422b-85ba-6086872e1a94",
   "metadata": {},
   "outputs": [
    {
     "data": {
      "text/html": [
       "<div>\n",
       "<style scoped>\n",
       "    .dataframe tbody tr th:only-of-type {\n",
       "        vertical-align: middle;\n",
       "    }\n",
       "\n",
       "    .dataframe tbody tr th {\n",
       "        vertical-align: top;\n",
       "    }\n",
       "\n",
       "    .dataframe thead th {\n",
       "        text-align: right;\n",
       "    }\n",
       "</style>\n",
       "<table border=\"1\" class=\"dataframe\">\n",
       "  <thead>\n",
       "    <tr style=\"text-align: right;\">\n",
       "      <th></th>\n",
       "      <th>Import ID</th>\n",
       "      <th>System Record ID</th>\n",
       "      <th>Age</th>\n",
       "      <th>DOB</th>\n",
       "      <th>Gender</th>\n",
       "      <th>Martial Status</th>\n",
       "      <th>Deceased?</th>\n",
       "      <th>No Valid Address?</th>\n",
       "      <th>Inactive?</th>\n",
       "      <th>Constituent Code</th>\n",
       "      <th>...</th>\n",
       "      <th>Constituent Code_3</th>\n",
       "      <th>Preferred City</th>\n",
       "      <th>Preferred State</th>\n",
       "      <th>Have Email in Database</th>\n",
       "      <th>Have Phone in Database</th>\n",
       "      <th>Spouse is a Constituent</th>\n",
       "      <th>No Email Restriction</th>\n",
       "      <th>No Solicitation Restriction</th>\n",
       "      <th>No Phone Solicitation Resctriction</th>\n",
       "      <th>Permanent No Contact</th>\n",
       "    </tr>\n",
       "  </thead>\n",
       "  <tbody>\n",
       "    <tr>\n",
       "      <th>0</th>\n",
       "      <td>00001-593-0000728218</td>\n",
       "      <td>728218</td>\n",
       "      <td>NaN</td>\n",
       "      <td>NaN</td>\n",
       "      <td>Female</td>\n",
       "      <td>Married</td>\n",
       "      <td>NaN</td>\n",
       "      <td>NaN</td>\n",
       "      <td>NaN</td>\n",
       "      <td>Employee</td>\n",
       "      <td>...</td>\n",
       "      <td>NaN</td>\n",
       "      <td>Muncie</td>\n",
       "      <td>IN</td>\n",
       "      <td>yes</td>\n",
       "      <td>no</td>\n",
       "      <td>Yes</td>\n",
       "      <td>NaN</td>\n",
       "      <td>NaN</td>\n",
       "      <td>NaN</td>\n",
       "      <td>NaN</td>\n",
       "    </tr>\n",
       "    <tr>\n",
       "      <th>1</th>\n",
       "      <td>112564</td>\n",
       "      <td>76191</td>\n",
       "      <td>65.0</td>\n",
       "      <td>1956-07-07 00:00:00</td>\n",
       "      <td>Female</td>\n",
       "      <td>Divorced</td>\n",
       "      <td>NaN</td>\n",
       "      <td>NaN</td>\n",
       "      <td>NaN</td>\n",
       "      <td>Alumni</td>\n",
       "      <td>...</td>\n",
       "      <td>NaN</td>\n",
       "      <td>Muncie</td>\n",
       "      <td>IN</td>\n",
       "      <td>yes</td>\n",
       "      <td>yes</td>\n",
       "      <td>NaN</td>\n",
       "      <td>NaN</td>\n",
       "      <td>NaN</td>\n",
       "      <td>NaN</td>\n",
       "      <td>NaN</td>\n",
       "    </tr>\n",
       "    <tr>\n",
       "      <th>2</th>\n",
       "      <td>00001-593-0000742499</td>\n",
       "      <td>742499</td>\n",
       "      <td>NaN</td>\n",
       "      <td>NaN</td>\n",
       "      <td>Female</td>\n",
       "      <td>NaN</td>\n",
       "      <td>NaN</td>\n",
       "      <td>NaN</td>\n",
       "      <td>NaN</td>\n",
       "      <td>Radio/TV Donor</td>\n",
       "      <td>...</td>\n",
       "      <td>NaN</td>\n",
       "      <td>Muncie</td>\n",
       "      <td>IN</td>\n",
       "      <td>yes</td>\n",
       "      <td>yes</td>\n",
       "      <td>NaN</td>\n",
       "      <td>NaN</td>\n",
       "      <td>NaN</td>\n",
       "      <td>NaN</td>\n",
       "      <td>NaN</td>\n",
       "    </tr>\n",
       "  </tbody>\n",
       "</table>\n",
       "<p>3 rows × 22 columns</p>\n",
       "</div>"
      ],
      "text/plain": [
       "              Import ID  System Record ID   Age                  DOB  Gender  \\\n",
       "0  00001-593-0000728218            728218   NaN                  NaN  Female   \n",
       "1                112564             76191  65.0  1956-07-07 00:00:00  Female   \n",
       "2  00001-593-0000742499            742499   NaN                  NaN  Female   \n",
       "\n",
       "  Martial Status Deceased? No Valid Address? Inactive? Constituent Code  ...  \\\n",
       "0        Married       NaN               NaN       NaN         Employee  ...   \n",
       "1       Divorced       NaN               NaN       NaN           Alumni  ...   \n",
       "2            NaN       NaN               NaN       NaN   Radio/TV Donor  ...   \n",
       "\n",
       "  Constituent Code_3 Preferred City Preferred State Have Email in Database  \\\n",
       "0                NaN         Muncie              IN                    yes   \n",
       "1                NaN         Muncie              IN                    yes   \n",
       "2                NaN         Muncie              IN                    yes   \n",
       "\n",
       "  Have Phone in Database Spouse is a Constituent No Email Restriction  \\\n",
       "0                     no                     Yes                  NaN   \n",
       "1                    yes                     NaN                  NaN   \n",
       "2                    yes                     NaN                  NaN   \n",
       "\n",
       "  No Solicitation Restriction No Phone Solicitation Resctriction  \\\n",
       "0                         NaN                                NaN   \n",
       "1                         NaN                                NaN   \n",
       "2                         NaN                                NaN   \n",
       "\n",
       "  Permanent No Contact  \n",
       "0                  NaN  \n",
       "1                  NaN  \n",
       "2                  NaN  \n",
       "\n",
       "[3 rows x 22 columns]"
      ]
     },
     "execution_count": 7,
     "metadata": {},
     "output_type": "execute_result"
    }
   ],
   "source": [
    "#Import Donor Loyalty Project Biographical file\n",
    "bio_df = pd.read_excel('Donor Loyalty Project Biographical.xlsx')\n",
    "bio_df.head(3)"
   ]
  },
  {
   "cell_type": "markdown",
   "id": "cf1365a7-1ddc-4a23-872c-858569b24cd8",
   "metadata": {
    "tags": []
   },
   "source": [
    "## Create Loyals Data Set"
   ]
  },
  {
   "cell_type": "markdown",
   "id": "7d23910f-5b78-463f-9c8d-b45044d612d7",
   "metadata": {},
   "source": [
    "Loyals = 2 or more years, in a row, of giving (consecutive >=1)"
   ]
  },
  {
   "cell_type": "code",
   "execution_count": 8,
   "id": "2f7eaf74-3d2e-418d-ac24-9ed93a5626d1",
   "metadata": {},
   "outputs": [
    {
     "name": "stderr",
     "output_type": "stream",
     "text": [
      "C:\\Users\\KALI~1.ODE\\AppData\\Local\\Temp/ipykernel_1936/4097562132.py:5: SettingWithCopyWarning: \n",
      "A value is trying to be set on a copy of a slice from a DataFrame.\n",
      "Try using .loc[row_indexer,col_indexer] = value instead\n",
      "\n",
      "See the caveats in the documentation: https://pandas.pydata.org/pandas-docs/stable/user_guide/indexing.html#returning-a-view-versus-a-copy\n",
      "  loyals['Loyals']='Loyals'\n"
     ]
    },
    {
     "data": {
      "text/html": [
       "<div>\n",
       "<style scoped>\n",
       "    .dataframe tbody tr th:only-of-type {\n",
       "        vertical-align: middle;\n",
       "    }\n",
       "\n",
       "    .dataframe tbody tr th {\n",
       "        vertical-align: top;\n",
       "    }\n",
       "\n",
       "    .dataframe thead th {\n",
       "        text-align: right;\n",
       "    }\n",
       "</style>\n",
       "<table border=\"1\" class=\"dataframe\">\n",
       "  <thead>\n",
       "    <tr style=\"text-align: right;\">\n",
       "      <th></th>\n",
       "      <th>Import ID</th>\n",
       "      <th>System Record ID</th>\n",
       "      <th>Membership Category</th>\n",
       "      <th>Date Joined</th>\n",
       "      <th>Consecutive Years</th>\n",
       "      <th>Last Renewed Date</th>\n",
       "      <th>Last Dropped Date</th>\n",
       "      <th>Expires On Date</th>\n",
       "      <th>Year Joined</th>\n",
       "      <th>Loyals</th>\n",
       "    </tr>\n",
       "  </thead>\n",
       "  <tbody>\n",
       "    <tr>\n",
       "      <th>0</th>\n",
       "      <td>132479</td>\n",
       "      <td>93620</td>\n",
       "      <td>Leaders and Loyals</td>\n",
       "      <td>2015-09-17</td>\n",
       "      <td>6</td>\n",
       "      <td>2021-07-02</td>\n",
       "      <td>NaN</td>\n",
       "      <td>2022-06-30</td>\n",
       "      <td>2015</td>\n",
       "      <td>Loyals</td>\n",
       "    </tr>\n",
       "    <tr>\n",
       "      <th>1</th>\n",
       "      <td>132691</td>\n",
       "      <td>93805</td>\n",
       "      <td>Leaders and Loyals</td>\n",
       "      <td>2015-09-17</td>\n",
       "      <td>6</td>\n",
       "      <td>2021-07-02</td>\n",
       "      <td>NaN</td>\n",
       "      <td>2022-06-30</td>\n",
       "      <td>2015</td>\n",
       "      <td>Loyals</td>\n",
       "    </tr>\n",
       "    <tr>\n",
       "      <th>2</th>\n",
       "      <td>133466</td>\n",
       "      <td>93866</td>\n",
       "      <td>Leaders and Loyals</td>\n",
       "      <td>2015-09-17</td>\n",
       "      <td>6</td>\n",
       "      <td>2021-07-20</td>\n",
       "      <td>NaN</td>\n",
       "      <td>2022-06-30</td>\n",
       "      <td>2015</td>\n",
       "      <td>Loyals</td>\n",
       "    </tr>\n",
       "  </tbody>\n",
       "</table>\n",
       "</div>"
      ],
      "text/plain": [
       "  Import ID  System Record ID Membership Category Date Joined  \\\n",
       "0    132479             93620  Leaders and Loyals  2015-09-17   \n",
       "1    132691             93805  Leaders and Loyals  2015-09-17   \n",
       "2    133466             93866  Leaders and Loyals  2015-09-17   \n",
       "\n",
       "   Consecutive Years Last Renewed Date  Last Dropped Date Expires On Date  \\\n",
       "0                  6        2021-07-02                NaN      2022-06-30   \n",
       "1                  6        2021-07-02                NaN      2022-06-30   \n",
       "2                  6        2021-07-20                NaN      2022-06-30   \n",
       "\n",
       "   Year Joined  Loyals  \n",
       "0         2015  Loyals  \n",
       "1         2015  Loyals  \n",
       "2         2015  Loyals  "
      ]
     },
     "execution_count": 8,
     "metadata": {},
     "output_type": "execute_result"
    }
   ],
   "source": [
    "#Filter for loyals\n",
    "loyals = memb_df[memb_df['Consecutive Years']>=1]\n",
    "\n",
    "#Create Column with just loyal description\n",
    "loyals['Loyals']='Loyals'\n",
    "loyals.head(3)"
   ]
  },
  {
   "cell_type": "code",
   "execution_count": 9,
   "id": "7847c5af-4741-4330-b7a2-ffce9db10709",
   "metadata": {},
   "outputs": [
    {
     "data": {
      "text/plain": [
       "0"
      ]
     },
     "execution_count": 9,
     "metadata": {},
     "output_type": "execute_result"
    }
   ],
   "source": [
    "#check duplicates\n",
    "memb_df.duplicated(subset=['System Record ID']).sum()"
   ]
  },
  {
   "cell_type": "markdown",
   "id": "23aec8c4-ba78-40d4-a9e7-1b0e032bca11",
   "metadata": {},
   "source": [
    "Total Number of Loyals (since we show 0 duplicate System Record IDs)"
   ]
  },
  {
   "cell_type": "code",
   "execution_count": 10,
   "id": "aec96d3d-f432-437f-a12c-63583e7fbc5d",
   "metadata": {},
   "outputs": [
    {
     "data": {
      "text/plain": [
       "22389"
      ]
     },
     "execution_count": 10,
     "metadata": {},
     "output_type": "execute_result"
    }
   ],
   "source": [
    "loyals.shape[0]"
   ]
  },
  {
   "cell_type": "markdown",
   "id": "643fa58f-7794-429d-b895-da72b1256850",
   "metadata": {
    "tags": []
   },
   "source": [
    "## Create Leaders Data Set"
   ]
  },
  {
   "cell_type": "markdown",
   "id": "306ee9fc-0063-45fd-a85d-9fde75a053f2",
   "metadata": {},
   "source": [
    "A leader being a donor who has given $1000 or more, within one fiscal year"
   ]
  },
  {
   "cell_type": "code",
   "execution_count": 11,
   "id": "f59095c8-39c4-462c-9983-4195756d0812",
   "metadata": {},
   "outputs": [
    {
     "data": {
      "text/html": [
       "<div>\n",
       "<style scoped>\n",
       "    .dataframe tbody tr th:only-of-type {\n",
       "        vertical-align: middle;\n",
       "    }\n",
       "\n",
       "    .dataframe tbody tr th {\n",
       "        vertical-align: top;\n",
       "    }\n",
       "\n",
       "    .dataframe thead th {\n",
       "        text-align: right;\n",
       "    }\n",
       "</style>\n",
       "<table border=\"1\" class=\"dataframe\">\n",
       "  <thead>\n",
       "    <tr style=\"text-align: right;\">\n",
       "      <th></th>\n",
       "      <th>Gift Date</th>\n",
       "      <th>Gift Amount</th>\n",
       "      <th>Import ID</th>\n",
       "      <th>System Record ID</th>\n",
       "      <th>Gift Year</th>\n",
       "    </tr>\n",
       "  </thead>\n",
       "  <tbody>\n",
       "    <tr>\n",
       "      <th>0</th>\n",
       "      <td>2012-09-24</td>\n",
       "      <td>50.0</td>\n",
       "      <td>93578</td>\n",
       "      <td>60806</td>\n",
       "      <td>2012</td>\n",
       "    </tr>\n",
       "    <tr>\n",
       "      <th>1</th>\n",
       "      <td>2012-09-24</td>\n",
       "      <td>50.0</td>\n",
       "      <td>93578</td>\n",
       "      <td>60806</td>\n",
       "      <td>2012</td>\n",
       "    </tr>\n",
       "    <tr>\n",
       "      <th>2</th>\n",
       "      <td>2014-04-03</td>\n",
       "      <td>100.0</td>\n",
       "      <td>333458</td>\n",
       "      <td>249510</td>\n",
       "      <td>2014</td>\n",
       "    </tr>\n",
       "  </tbody>\n",
       "</table>\n",
       "</div>"
      ],
      "text/plain": [
       "   Gift Date  Gift Amount Import ID  System Record ID  Gift Year\n",
       "0 2012-09-24         50.0     93578             60806       2012\n",
       "1 2012-09-24         50.0     93578             60806       2012\n",
       "2 2014-04-03        100.0    333458            249510       2014"
      ]
     },
     "execution_count": 11,
     "metadata": {},
     "output_type": "execute_result"
    }
   ],
   "source": [
    "#drop unnecessary columns, as we want just Leader information right now\n",
    "leaders = gift_df.drop(columns=[\"Gift Type\",\"Soft Credit/Matching Gift Flag\",\n",
    "                                       \"Fund Amount\", \"Fund Amount_1\", \"Fund ID\", \"Fund Description\",\n",
    "                                       \"Fund Amount_2\", \"Fund Amount_3\", \"Fund Amount_4\",\n",
    "                                      \"Fund ID_1\", \"Fund Description_1\",\"Fund ID_2\", \"Fund Description_2\",\n",
    "                                      \"Fund ID_3\", \"Fund Description_3\", \"Fund ID_4\", \"Fund Description_4\"])\n",
    "leaders.head(3)"
   ]
  },
  {
   "cell_type": "code",
   "execution_count": 12,
   "id": "8ef2b58a-19e1-4b6b-94ae-6282b543a6c5",
   "metadata": {},
   "outputs": [
    {
     "data": {
      "text/html": [
       "<div>\n",
       "<style scoped>\n",
       "    .dataframe tbody tr th:only-of-type {\n",
       "        vertical-align: middle;\n",
       "    }\n",
       "\n",
       "    .dataframe tbody tr th {\n",
       "        vertical-align: top;\n",
       "    }\n",
       "\n",
       "    .dataframe thead th {\n",
       "        text-align: right;\n",
       "    }\n",
       "</style>\n",
       "<table border=\"1\" class=\"dataframe\">\n",
       "  <thead>\n",
       "    <tr style=\"text-align: right;\">\n",
       "      <th></th>\n",
       "      <th>Gift Date</th>\n",
       "      <th>Gift Amount</th>\n",
       "      <th>Import ID</th>\n",
       "      <th>System Record ID</th>\n",
       "      <th>Gift Year</th>\n",
       "      <th>Fiscal Year</th>\n",
       "    </tr>\n",
       "  </thead>\n",
       "  <tbody>\n",
       "    <tr>\n",
       "      <th>0</th>\n",
       "      <td>2012-09-24</td>\n",
       "      <td>50.0</td>\n",
       "      <td>93578</td>\n",
       "      <td>60806</td>\n",
       "      <td>2012</td>\n",
       "      <td>FY 2013</td>\n",
       "    </tr>\n",
       "    <tr>\n",
       "      <th>1</th>\n",
       "      <td>2012-09-24</td>\n",
       "      <td>50.0</td>\n",
       "      <td>93578</td>\n",
       "      <td>60806</td>\n",
       "      <td>2012</td>\n",
       "      <td>FY 2013</td>\n",
       "    </tr>\n",
       "    <tr>\n",
       "      <th>2</th>\n",
       "      <td>2014-04-03</td>\n",
       "      <td>100.0</td>\n",
       "      <td>333458</td>\n",
       "      <td>249510</td>\n",
       "      <td>2014</td>\n",
       "      <td>FY 2014</td>\n",
       "    </tr>\n",
       "  </tbody>\n",
       "</table>\n",
       "</div>"
      ],
      "text/plain": [
       "   Gift Date  Gift Amount Import ID  System Record ID  Gift Year Fiscal Year\n",
       "0 2012-09-24         50.0     93578             60806       2012     FY 2013\n",
       "1 2012-09-24         50.0     93578             60806       2012     FY 2013\n",
       "2 2014-04-03        100.0    333458            249510       2014     FY 2014"
      ]
     },
     "execution_count": 12,
     "metadata": {},
     "output_type": "execute_result"
    }
   ],
   "source": [
    "#Create new column to determine fiscal year based on gift date. Donoations start back in 2011\n",
    "leaders['Fiscal Year']=np.where((leaders['Gift Date']>='7/01/2011') & (leaders['Gift Date']<='6/30/2012'), 'FY 2012',\n",
    "                            np.where((leaders['Gift Date']>='7/01/2012') & (leaders['Gift Date']<='6/30/2013'), 'FY 2013',\n",
    "                            np.where((leaders['Gift Date']>='7/01/2013') & (leaders['Gift Date']<='6/30/2014'), 'FY 2014',\n",
    "                            np.where((leaders['Gift Date']>='7/01/2014') & (leaders['Gift Date']<='6/30/2015'), 'FY 2015',\n",
    "                                np.where((leaders['Gift Date']>='7/01/2015') & (leaders['Gift Date']<='6/30/2016'), 'FY 2016',\n",
    "                                    np.where((leaders['Gift Date']>='7/01/2016') & (leaders['Gift Date']<='6/30/2017'), 'FY 2017',\n",
    "                                        np.where((leaders['Gift Date']>='7/01/2017') & (leaders['Gift Date']<='6/30/2018'), 'FY 2018',\n",
    "                                            np.where((leaders['Gift Date']>='7/01/2018') & (leaders['Gift Date']<='6/30/2019'), 'FY 2019',\n",
    "                                                np.where((leaders['Gift Date']>='7/01/2019') & (leaders['Gift Date']<='6/30/2020'), 'FY 2020',\n",
    "                                                    np.where((leaders['Gift Date']>='7/01/2020') & (leaders['Gift Date']<='6/30/2021'), 'FY 2021',\n",
    "                                                        np.where((leaders['Gift Date']>='7/01/2021') & (leaders['Gift Date']<='6/30/2022'), 'FY 2022',\n",
    "                                                 'Other')))))))))))\n",
    "leaders.head(3)"
   ]
  },
  {
   "cell_type": "code",
   "execution_count": 13,
   "id": "4375a8d5-5097-4543-b4bd-bd6f4dea9454",
   "metadata": {},
   "outputs": [
    {
     "data": {
      "text/html": [
       "<div>\n",
       "<style scoped>\n",
       "    .dataframe tbody tr th:only-of-type {\n",
       "        vertical-align: middle;\n",
       "    }\n",
       "\n",
       "    .dataframe tbody tr th {\n",
       "        vertical-align: top;\n",
       "    }\n",
       "\n",
       "    .dataframe thead th {\n",
       "        text-align: right;\n",
       "    }\n",
       "</style>\n",
       "<table border=\"1\" class=\"dataframe\">\n",
       "  <thead>\n",
       "    <tr style=\"text-align: right;\">\n",
       "      <th></th>\n",
       "      <th></th>\n",
       "      <th>Gift Amount</th>\n",
       "    </tr>\n",
       "    <tr>\n",
       "      <th>System Record ID</th>\n",
       "      <th>Fiscal Year</th>\n",
       "      <th></th>\n",
       "    </tr>\n",
       "  </thead>\n",
       "  <tbody>\n",
       "    <tr>\n",
       "      <th rowspan=\"5\" valign=\"top\">20</th>\n",
       "      <th>FY 2012</th>\n",
       "      <td>100.00</td>\n",
       "    </tr>\n",
       "    <tr>\n",
       "      <th>FY 2013</th>\n",
       "      <td>105.00</td>\n",
       "    </tr>\n",
       "    <tr>\n",
       "      <th>FY 2014</th>\n",
       "      <td>40.00</td>\n",
       "    </tr>\n",
       "    <tr>\n",
       "      <th>FY 2015</th>\n",
       "      <td>39.76</td>\n",
       "    </tr>\n",
       "    <tr>\n",
       "      <th>FY 2016</th>\n",
       "      <td>70.00</td>\n",
       "    </tr>\n",
       "    <tr>\n",
       "      <th>...</th>\n",
       "      <th>...</th>\n",
       "      <td>...</td>\n",
       "    </tr>\n",
       "    <tr>\n",
       "      <th>763595</th>\n",
       "      <th>FY 2022</th>\n",
       "      <td>7500.00</td>\n",
       "    </tr>\n",
       "    <tr>\n",
       "      <th>763603</th>\n",
       "      <th>FY 2022</th>\n",
       "      <td>150.00</td>\n",
       "    </tr>\n",
       "    <tr>\n",
       "      <th>763725</th>\n",
       "      <th>FY 2022</th>\n",
       "      <td>50000.00</td>\n",
       "    </tr>\n",
       "    <tr>\n",
       "      <th>763750</th>\n",
       "      <th>FY 2022</th>\n",
       "      <td>1000.00</td>\n",
       "    </tr>\n",
       "    <tr>\n",
       "      <th>764031</th>\n",
       "      <th>FY 2022</th>\n",
       "      <td>800.00</td>\n",
       "    </tr>\n",
       "  </tbody>\n",
       "</table>\n",
       "<p>196126 rows × 1 columns</p>\n",
       "</div>"
      ],
      "text/plain": [
       "                              Gift Amount\n",
       "System Record ID Fiscal Year             \n",
       "20               FY 2012           100.00\n",
       "                 FY 2013           105.00\n",
       "                 FY 2014            40.00\n",
       "                 FY 2015            39.76\n",
       "                 FY 2016            70.00\n",
       "...                                   ...\n",
       "763595           FY 2022          7500.00\n",
       "763603           FY 2022           150.00\n",
       "763725           FY 2022         50000.00\n",
       "763750           FY 2022          1000.00\n",
       "764031           FY 2022           800.00\n",
       "\n",
       "[196126 rows x 1 columns]"
      ]
     },
     "execution_count": 13,
     "metadata": {},
     "output_type": "execute_result"
    }
   ],
   "source": [
    "#Group Data to determine Donors that gave at least, $1K+ within one fiscal year.\n",
    "leaders_grp =leaders.groupby(['System Record ID','Fiscal Year']).agg({'Gift Amount':sum})\n",
    "leaders_grp"
   ]
  },
  {
   "cell_type": "code",
   "execution_count": 14,
   "id": "d6d4de3f-90bc-495e-9c35-2233b5fa5f5a",
   "metadata": {},
   "outputs": [
    {
     "data": {
      "text/plain": [
       "20013"
      ]
     },
     "execution_count": 14,
     "metadata": {},
     "output_type": "execute_result"
    }
   ],
   "source": [
    "#Filter for gift amount with grp'd data\n",
    "leaders_fnl = leaders_grp[leaders_grp['Gift Amount'] >= 1000]\n",
    "leaders_fnl.shape[0]"
   ]
  },
  {
   "cell_type": "code",
   "execution_count": 15,
   "id": "d1a2d5f5-ce8b-442b-b773-1f627653c3c0",
   "metadata": {},
   "outputs": [
    {
     "data": {
      "text/html": [
       "<div>\n",
       "<style scoped>\n",
       "    .dataframe tbody tr th:only-of-type {\n",
       "        vertical-align: middle;\n",
       "    }\n",
       "\n",
       "    .dataframe tbody tr th {\n",
       "        vertical-align: top;\n",
       "    }\n",
       "\n",
       "    .dataframe thead th {\n",
       "        text-align: right;\n",
       "    }\n",
       "</style>\n",
       "<table border=\"1\" class=\"dataframe\">\n",
       "  <thead>\n",
       "    <tr style=\"text-align: right;\">\n",
       "      <th></th>\n",
       "      <th>Fiscal Year</th>\n",
       "      <th>Gift Amount</th>\n",
       "    </tr>\n",
       "    <tr>\n",
       "      <th>System Record ID</th>\n",
       "      <th></th>\n",
       "      <th></th>\n",
       "    </tr>\n",
       "  </thead>\n",
       "  <tbody>\n",
       "    <tr>\n",
       "      <th>29</th>\n",
       "      <td>FY 2012</td>\n",
       "      <td>1325.0</td>\n",
       "    </tr>\n",
       "    <tr>\n",
       "      <th>115</th>\n",
       "      <td>FY 2012</td>\n",
       "      <td>10250.0</td>\n",
       "    </tr>\n",
       "    <tr>\n",
       "      <th>118</th>\n",
       "      <td>FY 2012</td>\n",
       "      <td>2174.0</td>\n",
       "    </tr>\n",
       "  </tbody>\n",
       "</table>\n",
       "</div>"
      ],
      "text/plain": [
       "                 Fiscal Year  Gift Amount\n",
       "System Record ID                         \n",
       "29                   FY 2012       1325.0\n",
       "115                  FY 2012      10250.0\n",
       "118                  FY 2012       2174.0"
      ]
     },
     "execution_count": 15,
     "metadata": {},
     "output_type": "execute_result"
    }
   ],
   "source": [
    "# drop duplicate values so that we can have a single file of leaders\n",
    "leaders = leaders_fnl.reset_index().drop_duplicates(subset ='System Record ID', keep = 'first').set_index('System Record ID')\n",
    "leaders.head(3)"
   ]
  },
  {
   "cell_type": "code",
   "execution_count": 16,
   "id": "d4d380e7-fd5c-4cb9-a1a9-3d799e76856f",
   "metadata": {},
   "outputs": [
    {
     "data": {
      "text/plain": [
       "5415"
      ]
     },
     "execution_count": 16,
     "metadata": {},
     "output_type": "execute_result"
    }
   ],
   "source": [
    "# we know expected value since we checked shape 26095-21716=4379\n",
    "leaders.shape[0]"
   ]
  },
  {
   "cell_type": "code",
   "execution_count": 17,
   "id": "e8318799-3455-41ef-821b-39388ea840fd",
   "metadata": {},
   "outputs": [
    {
     "data": {
      "text/html": [
       "<div>\n",
       "<style scoped>\n",
       "    .dataframe tbody tr th:only-of-type {\n",
       "        vertical-align: middle;\n",
       "    }\n",
       "\n",
       "    .dataframe tbody tr th {\n",
       "        vertical-align: top;\n",
       "    }\n",
       "\n",
       "    .dataframe thead th {\n",
       "        text-align: right;\n",
       "    }\n",
       "</style>\n",
       "<table border=\"1\" class=\"dataframe\">\n",
       "  <thead>\n",
       "    <tr style=\"text-align: right;\">\n",
       "      <th></th>\n",
       "      <th>Fiscal Year</th>\n",
       "      <th>Gift Amount</th>\n",
       "      <th>Leaders</th>\n",
       "    </tr>\n",
       "    <tr>\n",
       "      <th>System Record ID</th>\n",
       "      <th></th>\n",
       "      <th></th>\n",
       "      <th></th>\n",
       "    </tr>\n",
       "  </thead>\n",
       "  <tbody>\n",
       "    <tr>\n",
       "      <th>29</th>\n",
       "      <td>FY 2012</td>\n",
       "      <td>1325.0</td>\n",
       "      <td>Leaders</td>\n",
       "    </tr>\n",
       "    <tr>\n",
       "      <th>115</th>\n",
       "      <td>FY 2012</td>\n",
       "      <td>10250.0</td>\n",
       "      <td>Leaders</td>\n",
       "    </tr>\n",
       "    <tr>\n",
       "      <th>118</th>\n",
       "      <td>FY 2012</td>\n",
       "      <td>2174.0</td>\n",
       "      <td>Leaders</td>\n",
       "    </tr>\n",
       "  </tbody>\n",
       "</table>\n",
       "</div>"
      ],
      "text/plain": [
       "                 Fiscal Year  Gift Amount  Leaders\n",
       "System Record ID                                  \n",
       "29                   FY 2012       1325.0  Leaders\n",
       "115                  FY 2012      10250.0  Leaders\n",
       "118                  FY 2012       2174.0  Leaders"
      ]
     },
     "execution_count": 17,
     "metadata": {},
     "output_type": "execute_result"
    }
   ],
   "source": [
    "#Create Leaders description for analysis\n",
    "leaders['Leaders']='Leaders'\n",
    "leaders.head(3)"
   ]
  },
  {
   "cell_type": "markdown",
   "id": "db1a37bc-e8ca-41e1-af68-4fe76e7c1ae0",
   "metadata": {
    "tags": []
   },
   "source": [
    "### Create Master Data Set for Loyals, Leads, or Both"
   ]
  },
  {
   "cell_type": "code",
   "execution_count": 18,
   "id": "d681b28d-4157-4a93-bc50-1f02e2a48986",
   "metadata": {},
   "outputs": [
    {
     "data": {
      "text/html": [
       "<div>\n",
       "<style scoped>\n",
       "    .dataframe tbody tr th:only-of-type {\n",
       "        vertical-align: middle;\n",
       "    }\n",
       "\n",
       "    .dataframe tbody tr th {\n",
       "        vertical-align: top;\n",
       "    }\n",
       "\n",
       "    .dataframe thead th {\n",
       "        text-align: right;\n",
       "    }\n",
       "</style>\n",
       "<table border=\"1\" class=\"dataframe\">\n",
       "  <thead>\n",
       "    <tr style=\"text-align: right;\">\n",
       "      <th></th>\n",
       "      <th>Import ID</th>\n",
       "      <th>System Record ID</th>\n",
       "      <th>Membership Category</th>\n",
       "      <th>Date Joined</th>\n",
       "      <th>Consecutive Years</th>\n",
       "      <th>Last Renewed Date</th>\n",
       "      <th>Last Dropped Date</th>\n",
       "      <th>Expires On Date</th>\n",
       "      <th>Year Joined</th>\n",
       "      <th>Loyals</th>\n",
       "      <th>Fiscal Year</th>\n",
       "      <th>Gift Amount</th>\n",
       "      <th>Leaders</th>\n",
       "      <th>_merge</th>\n",
       "    </tr>\n",
       "  </thead>\n",
       "  <tbody>\n",
       "    <tr>\n",
       "      <th>0</th>\n",
       "      <td>132479</td>\n",
       "      <td>93620</td>\n",
       "      <td>Leaders and Loyals</td>\n",
       "      <td>2015-09-17</td>\n",
       "      <td>6.0</td>\n",
       "      <td>2021-07-02</td>\n",
       "      <td>NaN</td>\n",
       "      <td>2022-06-30</td>\n",
       "      <td>2015.0</td>\n",
       "      <td>Loyals</td>\n",
       "      <td>FY 2019</td>\n",
       "      <td>1017.11</td>\n",
       "      <td>Leaders</td>\n",
       "      <td>both</td>\n",
       "    </tr>\n",
       "    <tr>\n",
       "      <th>1</th>\n",
       "      <td>132691</td>\n",
       "      <td>93805</td>\n",
       "      <td>Leaders and Loyals</td>\n",
       "      <td>2015-09-17</td>\n",
       "      <td>6.0</td>\n",
       "      <td>2021-07-02</td>\n",
       "      <td>NaN</td>\n",
       "      <td>2022-06-30</td>\n",
       "      <td>2015.0</td>\n",
       "      <td>Loyals</td>\n",
       "      <td>FY 2012</td>\n",
       "      <td>1837.50</td>\n",
       "      <td>Leaders</td>\n",
       "      <td>both</td>\n",
       "    </tr>\n",
       "    <tr>\n",
       "      <th>2</th>\n",
       "      <td>133466</td>\n",
       "      <td>93866</td>\n",
       "      <td>Leaders and Loyals</td>\n",
       "      <td>2015-09-17</td>\n",
       "      <td>6.0</td>\n",
       "      <td>2021-07-20</td>\n",
       "      <td>NaN</td>\n",
       "      <td>2022-06-30</td>\n",
       "      <td>2015.0</td>\n",
       "      <td>Loyals</td>\n",
       "      <td>NaN</td>\n",
       "      <td>NaN</td>\n",
       "      <td>NaN</td>\n",
       "      <td>left_only</td>\n",
       "    </tr>\n",
       "  </tbody>\n",
       "</table>\n",
       "</div>"
      ],
      "text/plain": [
       "  Import ID  System Record ID Membership Category Date Joined  \\\n",
       "0    132479             93620  Leaders and Loyals  2015-09-17   \n",
       "1    132691             93805  Leaders and Loyals  2015-09-17   \n",
       "2    133466             93866  Leaders and Loyals  2015-09-17   \n",
       "\n",
       "   Consecutive Years Last Renewed Date  Last Dropped Date Expires On Date  \\\n",
       "0                6.0        2021-07-02                NaN      2022-06-30   \n",
       "1                6.0        2021-07-02                NaN      2022-06-30   \n",
       "2                6.0        2021-07-20                NaN      2022-06-30   \n",
       "\n",
       "   Year Joined  Loyals Fiscal Year  Gift Amount  Leaders     _merge  \n",
       "0       2015.0  Loyals     FY 2019      1017.11  Leaders       both  \n",
       "1       2015.0  Loyals     FY 2012      1837.50  Leaders       both  \n",
       "2       2015.0  Loyals         NaN          NaN      NaN  left_only  "
      ]
     },
     "execution_count": 18,
     "metadata": {},
     "output_type": "execute_result"
    }
   ],
   "source": [
    "#outer join loyals with leaders so that we have all records (left, right, both)\n",
    "loyal_leaders = pd.merge(loyals,leaders,on='System Record ID',how ='outer', indicator = True)\n",
    "loyal_leaders.head(3)"
   ]
  },
  {
   "cell_type": "code",
   "execution_count": 19,
   "id": "419d72b4-3072-4cf6-a652-115c2334e27a",
   "metadata": {},
   "outputs": [
    {
     "data": {
      "text/plain": [
       "23740"
      ]
     },
     "execution_count": 19,
     "metadata": {},
     "output_type": "execute_result"
    }
   ],
   "source": [
    "loyal_leaders.shape[0]"
   ]
  },
  {
   "cell_type": "code",
   "execution_count": 20,
   "id": "6e1f3eb2-0d7f-4fc0-8148-56810b5a4cb0",
   "metadata": {},
   "outputs": [
    {
     "data": {
      "text/plain": [
       "0"
      ]
     },
     "execution_count": 20,
     "metadata": {},
     "output_type": "execute_result"
    }
   ],
   "source": [
    "#check duplicates\n",
    "loyal_leaders.duplicated(subset=['System Record ID']).sum()"
   ]
  },
  {
   "cell_type": "code",
   "execution_count": 21,
   "id": "85012b3c-6c8b-4ecc-afc2-8da3a5325498",
   "metadata": {},
   "outputs": [
    {
     "data": {
      "text/plain": [
       "left_only     18325\n",
       "both           4064\n",
       "right_only     1351\n",
       "Name: _merge, dtype: int64"
      ]
     },
     "execution_count": 21,
     "metadata": {},
     "output_type": "execute_result"
    }
   ],
   "source": [
    "#Start to see how many are loyals (left), leaders(right), and loyal/leaders (both) from the merge\n",
    "loyal_leaders['_merge'].value_counts()"
   ]
  },
  {
   "cell_type": "code",
   "execution_count": 22,
   "id": "473a8545-bd0b-4527-91fd-7551eb6ed61e",
   "metadata": {},
   "outputs": [
    {
     "data": {
      "text/html": [
       "<div>\n",
       "<style scoped>\n",
       "    .dataframe tbody tr th:only-of-type {\n",
       "        vertical-align: middle;\n",
       "    }\n",
       "\n",
       "    .dataframe tbody tr th {\n",
       "        vertical-align: top;\n",
       "    }\n",
       "\n",
       "    .dataframe thead th {\n",
       "        text-align: right;\n",
       "    }\n",
       "</style>\n",
       "<table border=\"1\" class=\"dataframe\">\n",
       "  <thead>\n",
       "    <tr style=\"text-align: right;\">\n",
       "      <th></th>\n",
       "      <th>Import ID</th>\n",
       "      <th>System Record ID</th>\n",
       "      <th>Membership Category</th>\n",
       "      <th>Date Joined</th>\n",
       "      <th>Consecutive Years</th>\n",
       "      <th>Last Renewed Date</th>\n",
       "      <th>Last Dropped Date</th>\n",
       "      <th>Expires On Date</th>\n",
       "      <th>Year Joined</th>\n",
       "      <th>Loyals</th>\n",
       "      <th>Fiscal Year</th>\n",
       "      <th>Gift Amount</th>\n",
       "      <th>Leaders</th>\n",
       "      <th>_merge</th>\n",
       "      <th>Designation</th>\n",
       "    </tr>\n",
       "  </thead>\n",
       "  <tbody>\n",
       "    <tr>\n",
       "      <th>0</th>\n",
       "      <td>132479</td>\n",
       "      <td>93620</td>\n",
       "      <td>Leaders and Loyals</td>\n",
       "      <td>2015-09-17</td>\n",
       "      <td>6.0</td>\n",
       "      <td>2021-07-02</td>\n",
       "      <td>NaN</td>\n",
       "      <td>2022-06-30</td>\n",
       "      <td>2015.0</td>\n",
       "      <td>Loyals</td>\n",
       "      <td>FY 2019</td>\n",
       "      <td>1017.11</td>\n",
       "      <td>Leaders</td>\n",
       "      <td>both</td>\n",
       "      <td>Both</td>\n",
       "    </tr>\n",
       "    <tr>\n",
       "      <th>1</th>\n",
       "      <td>132691</td>\n",
       "      <td>93805</td>\n",
       "      <td>Leaders and Loyals</td>\n",
       "      <td>2015-09-17</td>\n",
       "      <td>6.0</td>\n",
       "      <td>2021-07-02</td>\n",
       "      <td>NaN</td>\n",
       "      <td>2022-06-30</td>\n",
       "      <td>2015.0</td>\n",
       "      <td>Loyals</td>\n",
       "      <td>FY 2012</td>\n",
       "      <td>1837.50</td>\n",
       "      <td>Leaders</td>\n",
       "      <td>both</td>\n",
       "      <td>Both</td>\n",
       "    </tr>\n",
       "    <tr>\n",
       "      <th>2</th>\n",
       "      <td>133466</td>\n",
       "      <td>93866</td>\n",
       "      <td>Leaders and Loyals</td>\n",
       "      <td>2015-09-17</td>\n",
       "      <td>6.0</td>\n",
       "      <td>2021-07-20</td>\n",
       "      <td>NaN</td>\n",
       "      <td>2022-06-30</td>\n",
       "      <td>2015.0</td>\n",
       "      <td>Loyals</td>\n",
       "      <td>NaN</td>\n",
       "      <td>NaN</td>\n",
       "      <td>NaN</td>\n",
       "      <td>left_only</td>\n",
       "      <td>Loyal</td>\n",
       "    </tr>\n",
       "  </tbody>\n",
       "</table>\n",
       "</div>"
      ],
      "text/plain": [
       "  Import ID  System Record ID Membership Category Date Joined  \\\n",
       "0    132479             93620  Leaders and Loyals  2015-09-17   \n",
       "1    132691             93805  Leaders and Loyals  2015-09-17   \n",
       "2    133466             93866  Leaders and Loyals  2015-09-17   \n",
       "\n",
       "   Consecutive Years Last Renewed Date  Last Dropped Date Expires On Date  \\\n",
       "0                6.0        2021-07-02                NaN      2022-06-30   \n",
       "1                6.0        2021-07-02                NaN      2022-06-30   \n",
       "2                6.0        2021-07-20                NaN      2022-06-30   \n",
       "\n",
       "   Year Joined  Loyals Fiscal Year  Gift Amount  Leaders     _merge  \\\n",
       "0       2015.0  Loyals     FY 2019      1017.11  Leaders       both   \n",
       "1       2015.0  Loyals     FY 2012      1837.50  Leaders       both   \n",
       "2       2015.0  Loyals         NaN          NaN      NaN  left_only   \n",
       "\n",
       "  Designation  \n",
       "0        Both  \n",
       "1        Both  \n",
       "2       Loyal  "
      ]
     },
     "execution_count": 22,
     "metadata": {},
     "output_type": "execute_result"
    }
   ],
   "source": [
    "#Create a new column that has the correct description for the above\n",
    "\n",
    "#First define mentod\n",
    "def categorise(row):  \n",
    "    if row['_merge'] == 'left_only':\n",
    "        return 'Loyal'\n",
    "    elif row['_merge'] == 'right_only':\n",
    "        return 'Leader'\n",
    "    return 'Both'\n",
    "\n",
    "#Then apply\n",
    "loyal_leaders['Designation'] = loyal_leaders.apply(lambda row: categorise(row), axis=1)\n",
    "loyal_leaders.head(3)"
   ]
  },
  {
   "cell_type": "code",
   "execution_count": 23,
   "id": "11a6ea29-96d6-4f4a-819f-f72367c0feb8",
   "metadata": {},
   "outputs": [
    {
     "data": {
      "text/plain": [
       "Loyal     18325\n",
       "Both       4064\n",
       "Leader     1351\n",
       "Name: Designation, dtype: int64"
      ]
     },
     "execution_count": 23,
     "metadata": {},
     "output_type": "execute_result"
    }
   ],
   "source": [
    "#Let us confrim that our new variable output matches the merge output\n",
    "loyal_leaders['Designation'].value_counts()"
   ]
  },
  {
   "cell_type": "code",
   "execution_count": 24,
   "id": "80b86a4c-b1a0-4dc2-8f31-2ae41cc02a2a",
   "metadata": {},
   "outputs": [
    {
     "data": {
      "text/html": [
       "<div>\n",
       "<style scoped>\n",
       "    .dataframe tbody tr th:only-of-type {\n",
       "        vertical-align: middle;\n",
       "    }\n",
       "\n",
       "    .dataframe tbody tr th {\n",
       "        vertical-align: top;\n",
       "    }\n",
       "\n",
       "    .dataframe thead th {\n",
       "        text-align: right;\n",
       "    }\n",
       "</style>\n",
       "<table border=\"1\" class=\"dataframe\">\n",
       "  <thead>\n",
       "    <tr style=\"text-align: right;\">\n",
       "      <th></th>\n",
       "      <th>Import ID</th>\n",
       "      <th>System Record ID</th>\n",
       "      <th>Membership Category</th>\n",
       "      <th>Date Joined</th>\n",
       "      <th>Consecutive Years</th>\n",
       "      <th>Last Renewed Date</th>\n",
       "      <th>Last Dropped Date</th>\n",
       "      <th>Expires On Date</th>\n",
       "      <th>Year Joined</th>\n",
       "      <th>Fiscal Year</th>\n",
       "      <th>Gift Amount</th>\n",
       "      <th>Designation</th>\n",
       "    </tr>\n",
       "  </thead>\n",
       "  <tbody>\n",
       "    <tr>\n",
       "      <th>0</th>\n",
       "      <td>132479</td>\n",
       "      <td>93620</td>\n",
       "      <td>Leaders and Loyals</td>\n",
       "      <td>2015-09-17</td>\n",
       "      <td>6.0</td>\n",
       "      <td>2021-07-02</td>\n",
       "      <td>NaN</td>\n",
       "      <td>2022-06-30</td>\n",
       "      <td>2015.0</td>\n",
       "      <td>FY 2019</td>\n",
       "      <td>1017.11</td>\n",
       "      <td>Both</td>\n",
       "    </tr>\n",
       "    <tr>\n",
       "      <th>1</th>\n",
       "      <td>132691</td>\n",
       "      <td>93805</td>\n",
       "      <td>Leaders and Loyals</td>\n",
       "      <td>2015-09-17</td>\n",
       "      <td>6.0</td>\n",
       "      <td>2021-07-02</td>\n",
       "      <td>NaN</td>\n",
       "      <td>2022-06-30</td>\n",
       "      <td>2015.0</td>\n",
       "      <td>FY 2012</td>\n",
       "      <td>1837.50</td>\n",
       "      <td>Both</td>\n",
       "    </tr>\n",
       "    <tr>\n",
       "      <th>2</th>\n",
       "      <td>133466</td>\n",
       "      <td>93866</td>\n",
       "      <td>Leaders and Loyals</td>\n",
       "      <td>2015-09-17</td>\n",
       "      <td>6.0</td>\n",
       "      <td>2021-07-20</td>\n",
       "      <td>NaN</td>\n",
       "      <td>2022-06-30</td>\n",
       "      <td>2015.0</td>\n",
       "      <td>NaN</td>\n",
       "      <td>NaN</td>\n",
       "      <td>Loyal</td>\n",
       "    </tr>\n",
       "  </tbody>\n",
       "</table>\n",
       "</div>"
      ],
      "text/plain": [
       "  Import ID  System Record ID Membership Category Date Joined  \\\n",
       "0    132479             93620  Leaders and Loyals  2015-09-17   \n",
       "1    132691             93805  Leaders and Loyals  2015-09-17   \n",
       "2    133466             93866  Leaders and Loyals  2015-09-17   \n",
       "\n",
       "   Consecutive Years Last Renewed Date  Last Dropped Date Expires On Date  \\\n",
       "0                6.0        2021-07-02                NaN      2022-06-30   \n",
       "1                6.0        2021-07-02                NaN      2022-06-30   \n",
       "2                6.0        2021-07-20                NaN      2022-06-30   \n",
       "\n",
       "   Year Joined Fiscal Year  Gift Amount Designation  \n",
       "0       2015.0     FY 2019      1017.11        Both  \n",
       "1       2015.0     FY 2012      1837.50        Both  \n",
       "2       2015.0         NaN          NaN       Loyal  "
      ]
     },
     "execution_count": 24,
     "metadata": {},
     "output_type": "execute_result"
    }
   ],
   "source": [
    "#drop helper columns from final designation file\n",
    "loyal_leaders_fnl = loyal_leaders.drop(columns=[\"Loyals\",\"Leaders\",\"_merge\"])\n",
    "loyal_leaders_fnl.head(3)"
   ]
  },
  {
   "cell_type": "markdown",
   "id": "d9b97734-646c-4582-915d-3dbfc30896b1",
   "metadata": {},
   "source": [
    "Export Final to CSV"
   ]
  },
  {
   "cell_type": "code",
   "execution_count": 25,
   "id": "24b6b697-d073-46d9-b187-9ba5a030491f",
   "metadata": {},
   "outputs": [],
   "source": [
    "loyal_leaders.to_csv('Donor Loyalty Project Membership Designations.csv')"
   ]
  },
  {
   "cell_type": "markdown",
   "id": "07254338-d7b4-4021-995f-31829860a32d",
   "metadata": {
    "tags": []
   },
   "source": [
    "# Analysis Tasks"
   ]
  },
  {
   "cell_type": "markdown",
   "id": "db82a1af-ca18-4e7d-84af-206b818c8036",
   "metadata": {
    "tags": []
   },
   "source": [
    "## Basic Analysis of Donations"
   ]
  },
  {
   "cell_type": "markdown",
   "id": "7d6afc79-ee88-4aca-be74-16cc054fd217",
   "metadata": {},
   "source": [
    "**Top 15 designations by Donor Fund Description**"
   ]
  },
  {
   "cell_type": "code",
   "execution_count": 26,
   "id": "b975f074-eae1-4d36-a21c-ca7d84d7ba97",
   "metadata": {},
   "outputs": [
    {
     "data": {
      "text/plain": [
       "The Ball State Fund                                 0.148325\n",
       "AA Alumni Association Funding                       0.143064\n",
       "Indiana Public Radio                                0.122750\n",
       "WIPB-TV                                             0.097530\n",
       "Cardinal Excellence Fund                            0.048998\n",
       "Teachers College Dean's Fund for Excellence         0.020719\n",
       "Miller College of Business General                  0.017844\n",
       "WIPB-TV QPQ Deduction                               0.012485\n",
       "College of Sciences and Humanities                  0.010983\n",
       "Student Scholarships                                0.009615\n",
       "Theatre Scholarships                                0.008520\n",
       "CF Martin Riverside Society Fund                    0.008246\n",
       "Center for Information and Communication Science    0.007046\n",
       "Parents Fund                                        0.006949\n",
       "Football                                            0.006669\n",
       "Name: Fund Description, dtype: float64"
      ]
     },
     "execution_count": 26,
     "metadata": {},
     "output_type": "execute_result"
    }
   ],
   "source": [
    "top_fund = gift_df['Fund Description'].value_counts(normalize = True).head(15)\n",
    "top_fund"
   ]
  },
  {
   "cell_type": "markdown",
   "id": "568a3c7b-3311-4c84-9732-00a94fbd9eef",
   "metadata": {},
   "source": [
    "**Create Bar Chart**"
   ]
  },
  {
   "cell_type": "code",
   "execution_count": 27,
   "id": "c1e423c3-9c0f-4347-9b98-09034bd9bcb2",
   "metadata": {},
   "outputs": [
    {
     "data": {
      "text/plain": [
       "<function matplotlib.pyplot.show(close=None, block=None)>"
      ]
     },
     "execution_count": 27,
     "metadata": {},
     "output_type": "execute_result"
    },
    {
     "data": {
      "image/png": "[encoded data removed]",
      "text/plain": [
       "<Figure size 1152x720 with 1 Axes>"
      ]
     },
     "metadata": {
      "needs_background": "light"
     },
     "output_type": "display_data"
    }
   ],
   "source": [
    "#create bar plot\n",
    "plt.figure(figsize=(16, 10))\n",
    "top_fund.plot.barh()\n",
    "plt.title(\"Donations per Designation\",font=\"Serif\", size=20)\n",
    "plt.show"
   ]
  },
  {
   "cell_type": "code",
   "execution_count": 28,
   "id": "11945321-a1d3-4d30-8e5b-8f4afff95e9d",
   "metadata": {},
   "outputs": [
    {
     "data": {
      "text/html": [
       "<div>\n",
       "<style scoped>\n",
       "    .dataframe tbody tr th:only-of-type {\n",
       "        vertical-align: middle;\n",
       "    }\n",
       "\n",
       "    .dataframe tbody tr th {\n",
       "        vertical-align: top;\n",
       "    }\n",
       "\n",
       "    .dataframe thead th {\n",
       "        text-align: right;\n",
       "    }\n",
       "</style>\n",
       "<table border=\"1\" class=\"dataframe\">\n",
       "  <thead>\n",
       "    <tr style=\"text-align: right;\">\n",
       "      <th></th>\n",
       "      <th>Fund Amount</th>\n",
       "    </tr>\n",
       "    <tr>\n",
       "      <th>Fund Description</th>\n",
       "      <th></th>\n",
       "    </tr>\n",
       "  </thead>\n",
       "  <tbody>\n",
       "    <tr>\n",
       "      <th>Indoor Turf Pavilion Fund</th>\n",
       "      <td>66321502.68</td>\n",
       "    </tr>\n",
       "    <tr>\n",
       "      <th>Restricted contributions</th>\n",
       "      <td>49023307.57</td>\n",
       "    </tr>\n",
       "    <tr>\n",
       "      <th>The Ball State Fund</th>\n",
       "      <td>17865290.86</td>\n",
       "    </tr>\n",
       "    <tr>\n",
       "      <th>Cardinal Commitment Campaign</th>\n",
       "      <td>12975086.34</td>\n",
       "    </tr>\n",
       "    <tr>\n",
       "      <th>Museum of Art Non-Cash Gifts</th>\n",
       "      <td>12810621.25</td>\n",
       "    </tr>\n",
       "    <tr>\n",
       "      <th>Cardinal Excellence Fund</th>\n",
       "      <td>10829679.85</td>\n",
       "    </tr>\n",
       "    <tr>\n",
       "      <th>Dr. Paul W. Parkison Fund for Accounting Excellence</th>\n",
       "      <td>8439849.13</td>\n",
       "    </tr>\n",
       "    <tr>\n",
       "      <th>Applied Behavior Analysis and Autism Programs</th>\n",
       "      <td>8359103.05</td>\n",
       "    </tr>\n",
       "    <tr>\n",
       "      <th>Grand Lawn Amphitheater Fund</th>\n",
       "      <td>7950000.00</td>\n",
       "    </tr>\n",
       "    <tr>\n",
       "      <th>George and Frances Ball Scholars Matching Gift Program</th>\n",
       "      <td>7400000.00</td>\n",
       "    </tr>\n",
       "    <tr>\n",
       "      <th>Greenhouse Renovation Project</th>\n",
       "      <td>7265826.69</td>\n",
       "    </tr>\n",
       "    <tr>\n",
       "      <th>ELI-Menard Family Fund</th>\n",
       "      <td>6400000.00</td>\n",
       "    </tr>\n",
       "    <tr>\n",
       "      <th>Football Facility Expansion and Ongoing Enhancements</th>\n",
       "      <td>5940378.12</td>\n",
       "    </tr>\n",
       "    <tr>\n",
       "      <th>Dobbs Family Fund</th>\n",
       "      <td>5677125.00</td>\n",
       "    </tr>\n",
       "    <tr>\n",
       "      <th>Football Stadium Expansion and Renovation Fund</th>\n",
       "      <td>5444075.60</td>\n",
       "    </tr>\n",
       "  </tbody>\n",
       "</table>\n",
       "</div>"
      ],
      "text/plain": [
       "                                                    Fund Amount\n",
       "Fund Description                                               \n",
       "Indoor Turf Pavilion Fund                           66321502.68\n",
       "Restricted contributions                            49023307.57\n",
       "The Ball State Fund                                 17865290.86\n",
       "Cardinal Commitment Campaign                        12975086.34\n",
       "Museum of Art Non-Cash Gifts                        12810621.25\n",
       "Cardinal Excellence Fund                            10829679.85\n",
       "Dr. Paul W. Parkison Fund for Accounting Excell...   8439849.13\n",
       "Applied Behavior Analysis and Autism Programs        8359103.05\n",
       "Grand Lawn Amphitheater Fund                         7950000.00\n",
       "George and Frances Ball Scholars Matching Gift ...   7400000.00\n",
       "Greenhouse Renovation Project                        7265826.69\n",
       "ELI-Menard Family Fund                               6400000.00\n",
       "Football Facility Expansion and Ongoing Enhance...   5940378.12\n",
       "Dobbs Family Fund                                    5677125.00\n",
       "Football Stadium Expansion and Renovation Fund       5444075.60"
      ]
     },
     "execution_count": 28,
     "metadata": {},
     "output_type": "execute_result"
    }
   ],
   "source": [
    "#Top 15 designations by amount funded\n",
    "desig_sum = gift_df.groupby(['Fund Description']).agg({'Fund Amount':sum}).sort_values('Fund Amount', ascending = False)\n",
    "desig_sum.head(15)"
   ]
  },
  {
   "cell_type": "code",
   "execution_count": 29,
   "id": "d9345933-14bf-4039-a820-5269a827507e",
   "metadata": {},
   "outputs": [
    {
     "data": {
      "text/html": [
       "<div>\n",
       "<style scoped>\n",
       "    .dataframe tbody tr th:only-of-type {\n",
       "        vertical-align: middle;\n",
       "    }\n",
       "\n",
       "    .dataframe tbody tr th {\n",
       "        vertical-align: top;\n",
       "    }\n",
       "\n",
       "    .dataframe thead th {\n",
       "        text-align: right;\n",
       "    }\n",
       "</style>\n",
       "<table border=\"1\" class=\"dataframe\">\n",
       "  <thead>\n",
       "    <tr style=\"text-align: right;\">\n",
       "      <th></th>\n",
       "      <th>Fund Amount</th>\n",
       "    </tr>\n",
       "    <tr>\n",
       "      <th>Fund Description</th>\n",
       "      <th></th>\n",
       "    </tr>\n",
       "  </thead>\n",
       "  <tbody>\n",
       "    <tr>\n",
       "      <th>Cardinal Connect Internship Endowment</th>\n",
       "      <td>1500000.000</td>\n",
       "    </tr>\n",
       "    <tr>\n",
       "      <th>Lilly Endowment Grant for Charting the Future (CTF) Initiative</th>\n",
       "      <td>1375000.000</td>\n",
       "    </tr>\n",
       "    <tr>\n",
       "      <th>Michelle A. and James T. Ryan Family Scholarship</th>\n",
       "      <td>1000000.000</td>\n",
       "    </tr>\n",
       "    <tr>\n",
       "      <th>George and Frances Ball Scholars Matching Gift Program</th>\n",
       "      <td>800000.000</td>\n",
       "    </tr>\n",
       "    <tr>\n",
       "      <th>ELI-Menard Family Fund</th>\n",
       "      <td>800000.000</td>\n",
       "    </tr>\n",
       "    <tr>\n",
       "      <th>Weidner Scholarship in Residential Property Management</th>\n",
       "      <td>790000.000</td>\n",
       "    </tr>\n",
       "    <tr>\n",
       "      <th>TeenWorks@BSU</th>\n",
       "      <td>773165.505</td>\n",
       "    </tr>\n",
       "    <tr>\n",
       "      <th>Grants Direct to BSU - Planetarium</th>\n",
       "      <td>500000.000</td>\n",
       "    </tr>\n",
       "    <tr>\n",
       "      <th>June E Everitt Endowment</th>\n",
       "      <td>500000.000</td>\n",
       "    </tr>\n",
       "    <tr>\n",
       "      <th>James E. Schroeder Scholarship</th>\n",
       "      <td>464093.290</td>\n",
       "    </tr>\n",
       "    <tr>\n",
       "      <th>Bracken House</th>\n",
       "      <td>400000.000</td>\n",
       "    </tr>\n",
       "    <tr>\n",
       "      <th>David and Mary Jane Sursa Fine Arts Endowment</th>\n",
       "      <td>374447.050</td>\n",
       "    </tr>\n",
       "    <tr>\n",
       "      <th>Olive and Sonia Leskow Mathematics Scholarship</th>\n",
       "      <td>305194.305</td>\n",
       "    </tr>\n",
       "    <tr>\n",
       "      <th>TeenWorks@BSU Scholarship</th>\n",
       "      <td>300000.000</td>\n",
       "    </tr>\n",
       "    <tr>\n",
       "      <th>Ryan Family Navigators Program</th>\n",
       "      <td>300000.000</td>\n",
       "    </tr>\n",
       "  </tbody>\n",
       "</table>\n",
       "</div>"
      ],
      "text/plain": [
       "                                                    Fund Amount\n",
       "Fund Description                                               \n",
       "Cardinal Connect Internship Endowment               1500000.000\n",
       "Lilly Endowment Grant for Charting the Future (...  1375000.000\n",
       "Michelle A. and James T. Ryan Family Scholarship    1000000.000\n",
       "George and Frances Ball Scholars Matching Gift ...   800000.000\n",
       "ELI-Menard Family Fund                               800000.000\n",
       "Weidner Scholarship in Residential Property Man...   790000.000\n",
       "TeenWorks@BSU                                        773165.505\n",
       "Grants Direct to BSU - Planetarium                   500000.000\n",
       "June E Everitt Endowment                             500000.000\n",
       "James E. Schroeder Scholarship                       464093.290\n",
       "Bracken House                                        400000.000\n",
       "David and Mary Jane Sursa Fine Arts Endowment        374447.050\n",
       "Olive and Sonia Leskow Mathematics Scholarship       305194.305\n",
       "TeenWorks@BSU Scholarship                            300000.000\n",
       "Ryan Family Navigators Program                       300000.000"
      ]
     },
     "execution_count": 29,
     "metadata": {},
     "output_type": "execute_result"
    }
   ],
   "source": [
    "#Top 15 median donations\n",
    "desig_sum = gift_df.groupby(['Fund Description']).agg({'Fund Amount':'median'}).sort_values('Fund Amount', ascending = False)\n",
    "desig_sum.head(15)"
   ]
  },
  {
   "cell_type": "markdown",
   "id": "59bcd131-b201-4924-90ca-bbf615b1f81e",
   "metadata": {},
   "source": [
    "### Do different constituency groups provide more loyal donors or not?"
   ]
  },
  {
   "cell_type": "code",
   "execution_count": 30,
   "id": "d35f3978-a84b-40fa-8d19-05a8fe358b0e",
   "metadata": {},
   "outputs": [
    {
     "data": {
      "text/plain": [
       "(22389, 15)"
      ]
     },
     "execution_count": 30,
     "metadata": {},
     "output_type": "execute_result"
    }
   ],
   "source": [
    "#Merge original loyals data with biographical data\n",
    "const = pd.merge(loyals, bio_df[['System Record ID','Import ID', 'Age', 'Gender', 'Martial Status', 'Constituent Code']], on='System Record ID')\n",
    "const.shape"
   ]
  },
  {
   "cell_type": "code",
   "execution_count": 31,
   "id": "fd279839-b8cc-4e80-8f5c-4695a345f276",
   "metadata": {},
   "outputs": [
    {
     "data": {
      "text/plain": [
       "Alumni                           14728\n",
       "Friend                            3110\n",
       "Alumni Spouse/Partner             1595\n",
       "Radio/TV Donor                    1312\n",
       "Corporation                        635\n",
       "Non-Degreed Alumni                 259\n",
       "Parent                             177\n",
       "Trust of an Alumnus/a              156\n",
       "Employee                            90\n",
       "Indiana Academy                     77\n",
       "Other Organization                  70\n",
       "Trust of a Friend                   61\n",
       "Foundation                          59\n",
       "Student                             52\n",
       "Burris                               7\n",
       "Individual added by mail list        1\n",
       "Name: Constituent Code, dtype: int64"
      ]
     },
     "execution_count": 31,
     "metadata": {},
     "output_type": "execute_result"
    }
   ],
   "source": [
    "#Number of each constituency\n",
    "const['Constituent Code'].value_counts()"
   ]
  },
  {
   "cell_type": "code",
   "execution_count": 32,
   "id": "8745879a-cdef-4c28-8171-cecf020beb3e",
   "metadata": {},
   "outputs": [
    {
     "data": {
      "text/plain": [
       "Alumni                           0.657823\n",
       "Friend                           0.138907\n",
       "Alumni Spouse/Partner            0.071240\n",
       "Radio/TV Donor                   0.058600\n",
       "Corporation                      0.028362\n",
       "Non-Degreed Alumni               0.011568\n",
       "Parent                           0.007906\n",
       "Trust of an Alumnus/a            0.006968\n",
       "Employee                         0.004020\n",
       "Indiana Academy                  0.003439\n",
       "Other Organization               0.003127\n",
       "Trust of a Friend                0.002725\n",
       "Foundation                       0.002635\n",
       "Student                          0.002323\n",
       "Burris                           0.000313\n",
       "Individual added by mail list    0.000045\n",
       "Name: Constituent Code, dtype: float64"
      ]
     },
     "execution_count": 32,
     "metadata": {},
     "output_type": "execute_result"
    }
   ],
   "source": [
    "p2 = const['Constituent Code'].value_counts(normalize = True)\n",
    "p2"
   ]
  },
  {
   "cell_type": "code",
   "execution_count": 33,
   "id": "6c642f14-4a06-4b2c-a6c0-a8334f3e3a03",
   "metadata": {},
   "outputs": [
    {
     "data": {
      "text/plain": [
       "<function matplotlib.pyplot.show(close=None, block=None)>"
      ]
     },
     "execution_count": 33,
     "metadata": {},
     "output_type": "execute_result"
    },
    {
     "data": {
      "image/png": "[encoded data removed]",
      "text/plain": [
       "<Figure size 1152x720 with 1 Axes>"
      ]
     },
     "metadata": {
      "needs_background": "light"
     },
     "output_type": "display_data"
    }
   ],
   "source": [
    "plt.figure(figsize=(16, 10))\n",
    "p2.plot.barh()\n",
    "plt.title(\"Loyals per Constituency\",font=\"Serif\", size=20)\n",
    "plt.show"
   ]
  },
  {
   "cell_type": "markdown",
   "id": "dbd70580-736d-44c9-93a3-5b663e25b9da",
   "metadata": {
    "tags": []
   },
   "source": [
    "## Generational trends of donors"
   ]
  },
  {
   "cell_type": "markdown",
   "id": "a41311f5-8000-46bc-8455-bdfbd8d25f07",
   "metadata": {},
   "source": [
    " - Rank generations based on total donations\n",
    " - Where each generation donates the most\n",
    " - Rank generations based on # of loyals"
   ]
  },
  {
   "cell_type": "code",
   "execution_count": 34,
   "id": "8fff8085-a828-4fc3-9468-969c2a0a75bf",
   "metadata": {},
   "outputs": [
    {
     "data": {
      "text/html": [
       "<div>\n",
       "<style scoped>\n",
       "    .dataframe tbody tr th:only-of-type {\n",
       "        vertical-align: middle;\n",
       "    }\n",
       "\n",
       "    .dataframe tbody tr th {\n",
       "        vertical-align: top;\n",
       "    }\n",
       "\n",
       "    .dataframe thead th {\n",
       "        text-align: right;\n",
       "    }\n",
       "</style>\n",
       "<table border=\"1\" class=\"dataframe\">\n",
       "  <thead>\n",
       "    <tr style=\"text-align: right;\">\n",
       "      <th></th>\n",
       "      <th>Gift Date</th>\n",
       "      <th>Gift Amount</th>\n",
       "      <th>Gift Type</th>\n",
       "      <th>Soft Credit/Matching Gift Flag</th>\n",
       "      <th>Import ID_x</th>\n",
       "      <th>System Record ID</th>\n",
       "      <th>Fund ID</th>\n",
       "      <th>Fund Description</th>\n",
       "      <th>Fund Amount</th>\n",
       "      <th>Fund ID_1</th>\n",
       "      <th>...</th>\n",
       "      <th>Preferred City</th>\n",
       "      <th>Preferred State</th>\n",
       "      <th>Have Email in Database</th>\n",
       "      <th>Have Phone in Database</th>\n",
       "      <th>Spouse is a Constituent</th>\n",
       "      <th>No Email Restriction</th>\n",
       "      <th>No Solicitation Restriction</th>\n",
       "      <th>No Phone Solicitation Resctriction</th>\n",
       "      <th>Permanent No Contact</th>\n",
       "      <th>_merge</th>\n",
       "    </tr>\n",
       "  </thead>\n",
       "  <tbody>\n",
       "    <tr>\n",
       "      <th>0</th>\n",
       "      <td>2012-09-24</td>\n",
       "      <td>50.0</td>\n",
       "      <td>MG Pay-Cash</td>\n",
       "      <td>Soft Credit Recipient</td>\n",
       "      <td>93578</td>\n",
       "      <td>60806</td>\n",
       "      <td>000010F</td>\n",
       "      <td>The Ball State Fund</td>\n",
       "      <td>50.0</td>\n",
       "      <td>NaN</td>\n",
       "      <td>...</td>\n",
       "      <td>Carmel</td>\n",
       "      <td>IN</td>\n",
       "      <td>yes</td>\n",
       "      <td>yes</td>\n",
       "      <td>NaN</td>\n",
       "      <td>NaN</td>\n",
       "      <td>NaN</td>\n",
       "      <td>NaN</td>\n",
       "      <td>NaN</td>\n",
       "      <td>both</td>\n",
       "    </tr>\n",
       "    <tr>\n",
       "      <th>1</th>\n",
       "      <td>2012-09-24</td>\n",
       "      <td>50.0</td>\n",
       "      <td>MG Pledge</td>\n",
       "      <td>Soft Credit Recipient</td>\n",
       "      <td>93578</td>\n",
       "      <td>60806</td>\n",
       "      <td>000010F</td>\n",
       "      <td>The Ball State Fund</td>\n",
       "      <td>50.0</td>\n",
       "      <td>NaN</td>\n",
       "      <td>...</td>\n",
       "      <td>Carmel</td>\n",
       "      <td>IN</td>\n",
       "      <td>yes</td>\n",
       "      <td>yes</td>\n",
       "      <td>NaN</td>\n",
       "      <td>NaN</td>\n",
       "      <td>NaN</td>\n",
       "      <td>NaN</td>\n",
       "      <td>NaN</td>\n",
       "      <td>both</td>\n",
       "    </tr>\n",
       "    <tr>\n",
       "      <th>2</th>\n",
       "      <td>2014-07-07</td>\n",
       "      <td>55.0</td>\n",
       "      <td>MG Pay-Cash</td>\n",
       "      <td>Soft Credit Recipient</td>\n",
       "      <td>93578</td>\n",
       "      <td>60806</td>\n",
       "      <td>012010F</td>\n",
       "      <td>Miller College of Business General</td>\n",
       "      <td>55.0</td>\n",
       "      <td>NaN</td>\n",
       "      <td>...</td>\n",
       "      <td>Carmel</td>\n",
       "      <td>IN</td>\n",
       "      <td>yes</td>\n",
       "      <td>yes</td>\n",
       "      <td>NaN</td>\n",
       "      <td>NaN</td>\n",
       "      <td>NaN</td>\n",
       "      <td>NaN</td>\n",
       "      <td>NaN</td>\n",
       "      <td>both</td>\n",
       "    </tr>\n",
       "  </tbody>\n",
       "</table>\n",
       "<p>3 rows × 44 columns</p>\n",
       "</div>"
      ],
      "text/plain": [
       "   Gift Date  Gift Amount    Gift Type Soft Credit/Matching Gift Flag  \\\n",
       "0 2012-09-24         50.0  MG Pay-Cash          Soft Credit Recipient   \n",
       "1 2012-09-24         50.0    MG Pledge          Soft Credit Recipient   \n",
       "2 2014-07-07         55.0  MG Pay-Cash          Soft Credit Recipient   \n",
       "\n",
       "  Import ID_x  System Record ID  Fund ID                    Fund Description  \\\n",
       "0       93578             60806  000010F                 The Ball State Fund   \n",
       "1       93578             60806  000010F                 The Ball State Fund   \n",
       "2       93578             60806  012010F  Miller College of Business General   \n",
       "\n",
       "   Fund Amount Fund ID_1  ... Preferred City  Preferred State  \\\n",
       "0         50.0       NaN  ...         Carmel               IN   \n",
       "1         50.0       NaN  ...         Carmel               IN   \n",
       "2         55.0       NaN  ...         Carmel               IN   \n",
       "\n",
       "  Have Email in Database Have Phone in Database  Spouse is a Constituent  \\\n",
       "0                    yes                    yes                      NaN   \n",
       "1                    yes                    yes                      NaN   \n",
       "2                    yes                    yes                      NaN   \n",
       "\n",
       "  No Email Restriction No Solicitation Restriction  \\\n",
       "0                  NaN                         NaN   \n",
       "1                  NaN                         NaN   \n",
       "2                  NaN                         NaN   \n",
       "\n",
       "   No Phone Solicitation Resctriction Permanent No Contact _merge  \n",
       "0                                 NaN                  NaN   both  \n",
       "1                                 NaN                  NaN   both  \n",
       "2                                 NaN                  NaN   both  \n",
       "\n",
       "[3 rows x 44 columns]"
      ]
     },
     "execution_count": 34,
     "metadata": {},
     "output_type": "execute_result"
    }
   ],
   "source": [
    "#Inner merge of gift_df and bio_df for the Generation Analysis\n",
    "gift_bio = pd.merge(gift_df, bio_df, on='System Record ID', indicator = True)\n",
    "gift_bio.head(3)"
   ]
  },
  {
   "cell_type": "markdown",
   "id": "a721b8ee-0781-4dd9-9821-90e7e4ef096c",
   "metadata": {},
   "source": [
    "Create a \"Generation\" column based on donor's age"
   ]
  },
  {
   "cell_type": "code",
   "execution_count": 35,
   "id": "44fa2ece-f188-4b25-bdd3-5ee6693f65d4",
   "metadata": {},
   "outputs": [],
   "source": [
    "# conditions for each generation based on age\n",
    "conditions = [\n",
    "    (gift_bio['Age'] <= 10) & (gift_bio['Age'] <= 25),\n",
    "    (gift_bio['Age'] >= 26) & (gift_bio['Age'] <= 41),\n",
    "    (gift_bio['Age'] >= 42) & (gift_bio['Age'] <= 57),\n",
    "    (gift_bio['Age'] >= 58) & (gift_bio['Age'] <= 76),\n",
    "    (gift_bio['Age'] >= 77) & (gift_bio['Age'] <= 94)\n",
    "    ]\n",
    "\n",
    "# create a list of the values we want to assign for each condition\n",
    "values = ['Gen Z', 'Millenial', 'Gen X', 'Boomer', 'Post War']\n",
    "\n",
    "# create a new column and use np.select to assign values to it using our lists as arguments\n",
    "gift_bio['Generation'] = np.select(conditions, values)"
   ]
  },
  {
   "cell_type": "code",
   "execution_count": 36,
   "id": "52f1824d-1f4e-43e6-a1cc-ac9461c8314f",
   "metadata": {},
   "outputs": [
    {
     "data": {
      "text/html": [
       "<div>\n",
       "<style scoped>\n",
       "    .dataframe tbody tr th:only-of-type {\n",
       "        vertical-align: middle;\n",
       "    }\n",
       "\n",
       "    .dataframe tbody tr th {\n",
       "        vertical-align: top;\n",
       "    }\n",
       "\n",
       "    .dataframe thead th {\n",
       "        text-align: right;\n",
       "    }\n",
       "</style>\n",
       "<table border=\"1\" class=\"dataframe\">\n",
       "  <thead>\n",
       "    <tr style=\"text-align: right;\">\n",
       "      <th></th>\n",
       "      <th>System Record ID</th>\n",
       "      <th>Gift Amount</th>\n",
       "      <th>Fund Description</th>\n",
       "      <th>Age</th>\n",
       "      <th>Generation</th>\n",
       "    </tr>\n",
       "  </thead>\n",
       "  <tbody>\n",
       "    <tr>\n",
       "      <th>0</th>\n",
       "      <td>60806</td>\n",
       "      <td>50.0</td>\n",
       "      <td>The Ball State Fund</td>\n",
       "      <td>64.0</td>\n",
       "      <td>Boomer</td>\n",
       "    </tr>\n",
       "    <tr>\n",
       "      <th>1</th>\n",
       "      <td>60806</td>\n",
       "      <td>50.0</td>\n",
       "      <td>The Ball State Fund</td>\n",
       "      <td>64.0</td>\n",
       "      <td>Boomer</td>\n",
       "    </tr>\n",
       "    <tr>\n",
       "      <th>2</th>\n",
       "      <td>60806</td>\n",
       "      <td>55.0</td>\n",
       "      <td>Miller College of Business General</td>\n",
       "      <td>64.0</td>\n",
       "      <td>Boomer</td>\n",
       "    </tr>\n",
       "  </tbody>\n",
       "</table>\n",
       "</div>"
      ],
      "text/plain": [
       "   System Record ID  Gift Amount                    Fund Description   Age  \\\n",
       "0             60806         50.0                 The Ball State Fund  64.0   \n",
       "1             60806         50.0                 The Ball State Fund  64.0   \n",
       "2             60806         55.0  Miller College of Business General  64.0   \n",
       "\n",
       "  Generation  \n",
       "0     Boomer  \n",
       "1     Boomer  \n",
       "2     Boomer  "
      ]
     },
     "execution_count": 36,
     "metadata": {},
     "output_type": "execute_result"
    }
   ],
   "source": [
    "# only show main columns\n",
    "gen_df = gift_bio.loc[:, [\"System Record ID\", \"Gift Amount\", \"Fund Description\", \"Age\",\"Generation\"]]\n",
    "gen_df.head(3)"
   ]
  },
  {
   "cell_type": "markdown",
   "id": "fbd73b62-d1b0-4ff9-a16f-5bfd5327c0fe",
   "metadata": {
    "tags": []
   },
   "source": [
    "### Generation based on donation amounts"
   ]
  },
  {
   "cell_type": "code",
   "execution_count": 37,
   "id": "ab9fac73-f1eb-4729-8d2f-43b2d33e6cf3",
   "metadata": {},
   "outputs": [
    {
     "data": {
      "text/html": [
       "<div>\n",
       "<style scoped>\n",
       "    .dataframe tbody tr th:only-of-type {\n",
       "        vertical-align: middle;\n",
       "    }\n",
       "\n",
       "    .dataframe tbody tr th {\n",
       "        vertical-align: top;\n",
       "    }\n",
       "\n",
       "    .dataframe thead th {\n",
       "        text-align: right;\n",
       "    }\n",
       "</style>\n",
       "<table border=\"1\" class=\"dataframe\">\n",
       "  <thead>\n",
       "    <tr style=\"text-align: right;\">\n",
       "      <th></th>\n",
       "      <th>Gift Amount</th>\n",
       "    </tr>\n",
       "    <tr>\n",
       "      <th>Generation</th>\n",
       "      <th></th>\n",
       "    </tr>\n",
       "  </thead>\n",
       "  <tbody>\n",
       "    <tr>\n",
       "      <th>0</th>\n",
       "      <td>2.136923e+08</td>\n",
       "    </tr>\n",
       "    <tr>\n",
       "      <th>Boomer</th>\n",
       "      <td>1.751251e+08</td>\n",
       "    </tr>\n",
       "    <tr>\n",
       "      <th>Post War</th>\n",
       "      <td>8.289368e+07</td>\n",
       "    </tr>\n",
       "    <tr>\n",
       "      <th>Gen X</th>\n",
       "      <td>3.555955e+07</td>\n",
       "    </tr>\n",
       "    <tr>\n",
       "      <th>Millenial</th>\n",
       "      <td>3.657636e+06</td>\n",
       "    </tr>\n",
       "    <tr>\n",
       "      <th>Gen Z</th>\n",
       "      <td>1.640077e+04</td>\n",
       "    </tr>\n",
       "  </tbody>\n",
       "</table>\n",
       "</div>"
      ],
      "text/plain": [
       "             Gift Amount\n",
       "Generation              \n",
       "0           2.136923e+08\n",
       "Boomer      1.751251e+08\n",
       "Post War    8.289368e+07\n",
       "Gen X       3.555955e+07\n",
       "Millenial   3.657636e+06\n",
       "Gen Z       1.640077e+04"
      ]
     },
     "execution_count": 37,
     "metadata": {},
     "output_type": "execute_result"
    }
   ],
   "source": [
    "# grouping by generation and sorting by highest gift amount\n",
    "gen_final = gen_df.groupby('Generation').agg({'Gift Amount':sum})\n",
    "gen_final.sort_values(by=\"Gift Amount\",ascending=False)\n",
    "# 0 indicates no age in data (important to see how many donations aren't connected to an age)"
   ]
  },
  {
   "cell_type": "code",
   "execution_count": 38,
   "id": "00ac934d-722d-4da6-8ff6-d8dbbe789473",
   "metadata": {},
   "outputs": [
    {
     "data": {
      "text/plain": [
       "Text(0, 0.5, 'Gift Amount in Millions ($)')"
      ]
     },
     "execution_count": 38,
     "metadata": {},
     "output_type": "execute_result"
    },
    {
     "data": {
      "image/png": "[encoded data removed]",
      "text/plain": [
       "<Figure size 432x288 with 1 Axes>"
      ]
     },
     "metadata": {
      "needs_background": "light"
     },
     "output_type": "display_data"
    }
   ],
   "source": [
    "gen_final['Gift Amount'].plot.bar(title='Total Gift Amount by Generation').set_ylabel(\"Gift Amount in Millions ($)\")"
   ]
  },
  {
   "cell_type": "code",
   "execution_count": 39,
   "id": "9744ef5c-b2c4-4a08-ac61-a4834611a581",
   "metadata": {},
   "outputs": [],
   "source": [
    "import matplotlib.pyplot as plt"
   ]
  },
  {
   "cell_type": "code",
   "execution_count": 40,
   "id": "69bf15f9-0e50-409b-aa9a-cb8b8c72085c",
   "metadata": {},
   "outputs": [
    {
     "data": {
      "text/plain": [
       "<AxesSubplot:title={'center':'Gift Amount in Millions ($)'}, xlabel='Generation'>"
      ]
     },
     "execution_count": 40,
     "metadata": {},
     "output_type": "execute_result"
    },
    {
     "data": {
      "image/png": "[encoded data removed]",
      "text/plain": [
       "<Figure size 432x288 with 1 Axes>"
      ]
     },
     "metadata": {
      "needs_background": "light"
     },
     "output_type": "display_data"
    }
   ],
   "source": [
    "gen_order =[\"Post War\",\"Boomer\",\"Gen X\",\"Millenial\",\"Gen Z\",\"0\"]\n",
    "gen_final['Gift Amount'].loc[gen_order].plot(kind=\"bar\", legend=False, title='Gift Amount in Millions ($)')"
   ]
  },
  {
   "cell_type": "markdown",
   "id": "597d46d1-3ead-4f02-a449-d8ef29fd72f0",
   "metadata": {},
   "source": [
    "**Total donations per generation (in dollars) (not reduced to loyals/leaders)**"
   ]
  },
  {
   "cell_type": "markdown",
   "id": "ee93d14b-cee4-49b9-aa89-ab7feaba7b08",
   "metadata": {},
   "source": [
    "- 213,692,300 - **0**\n",
    "- 175,125,100 - **Boomers**\n",
    "- 82,893,680 - **Post War**\n",
    "- 35,559,550 - **Gen X**\n",
    "- 3,657,636 - **Millenial**\n",
    "- 16,400.77 - **Gen Z**"
   ]
  },
  {
   "cell_type": "markdown",
   "id": "8e53152d-2677-443b-8243-ddcb8b5ea06f",
   "metadata": {
    "tags": []
   },
   "source": [
    "### Generation based on where they donate (Fund Description)"
   ]
  },
  {
   "cell_type": "code",
   "execution_count": 41,
   "id": "ec33e465-c4c5-4b79-afe2-661d3f6e1953",
   "metadata": {},
   "outputs": [
    {
     "data": {
      "text/html": [
       "<div>\n",
       "<style scoped>\n",
       "    .dataframe tbody tr th:only-of-type {\n",
       "        vertical-align: middle;\n",
       "    }\n",
       "\n",
       "    .dataframe tbody tr th {\n",
       "        vertical-align: top;\n",
       "    }\n",
       "\n",
       "    .dataframe thead th {\n",
       "        text-align: right;\n",
       "    }\n",
       "</style>\n",
       "<table border=\"1\" class=\"dataframe\">\n",
       "  <thead>\n",
       "    <tr style=\"text-align: right;\">\n",
       "      <th></th>\n",
       "      <th></th>\n",
       "      <th>Gift Amount</th>\n",
       "    </tr>\n",
       "    <tr>\n",
       "      <th>Generation</th>\n",
       "      <th>Fund Description</th>\n",
       "      <th></th>\n",
       "    </tr>\n",
       "  </thead>\n",
       "  <tbody>\n",
       "    <tr>\n",
       "      <th rowspan=\"3\" valign=\"top\">Boomer</th>\n",
       "      <th>Indoor Turf Pavilion Fund</th>\n",
       "      <td>27260696.69</td>\n",
       "    </tr>\n",
       "    <tr>\n",
       "      <th>Restricted contributions</th>\n",
       "      <td>25343006.12</td>\n",
       "    </tr>\n",
       "    <tr>\n",
       "      <th>The Ball State Fund</th>\n",
       "      <td>7788270.13</td>\n",
       "    </tr>\n",
       "  </tbody>\n",
       "</table>\n",
       "</div>"
      ],
      "text/plain": [
       "                                      Gift Amount\n",
       "Generation Fund Description                      \n",
       "Boomer     Indoor Turf Pavilion Fund  27260696.69\n",
       "           Restricted contributions   25343006.12\n",
       "           The Ball State Fund         7788270.13"
      ]
     },
     "execution_count": 41,
     "metadata": {},
     "output_type": "execute_result"
    }
   ],
   "source": [
    "# removing 0 values since we're focusing on generations\n",
    "gen_drop = gen_df[gen_df[\"Generation\"] != '0']\n",
    "\n",
    "# Grouping by generation and fund description to see which funds each generation donates the most to\n",
    "gen_final = gen_drop.groupby([\"Generation\",\"Fund Description\"]).agg({'Gift Amount':sum})\n",
    "m = gen_final.sort_values(['Generation','Gift Amount'], ascending=[True, False])\n",
    "#pd.set_option('display.max_rows', None) (use when wanting to double check top 3 for each generation)\n",
    "#m (use when wanting to double check top 3 for each generation)\n",
    "m.head(3)"
   ]
  },
  {
   "cell_type": "markdown",
   "id": "f03062cb-aa4a-4f3b-a7f0-b9308fda1744",
   "metadata": {
    "tags": []
   },
   "source": [
    "### Top 3 Funds for each generation (in dollars):"
   ]
  },
  {
   "cell_type": "markdown",
   "id": "4765b09f-9acf-4d4a-890e-0e2c67ceb18f",
   "metadata": {},
   "source": [
    "*Boomer*\n",
    "- 27,260,696.69 - Indoor Turf Pavillion Fund \n",
    "- 25,343,006.12 - Restricted Contributions \n",
    "- 7,788,270.13 - The Ball State Fund "
   ]
  },
  {
   "cell_type": "markdown",
   "id": "e1059410-85f3-47f2-bcf9-25a0f2509280",
   "metadata": {},
   "source": [
    "*Post War*\n",
    "- 9,777,599.84 - Restricted Contributions \n",
    "- 8,968,020.75 - Museum of Art Non-Cash Gifts \n",
    "- 4,165,150.00 - June E Everitt Endowment"
   ]
  },
  {
   "cell_type": "markdown",
   "id": "550a89a7-349a-471a-8503-2f4a16994fa4",
   "metadata": {},
   "source": [
    "*Gen X*\n",
    "- 8,435,960.00 - Indoor Turf Pavillion Fund \n",
    "- 4,476,350.00 - Restricted Contributions \n",
    "- 3,060,000.00 - Dobbs Family Fund "
   ]
  },
  {
   "cell_type": "markdown",
   "id": "613725d8-87f3-4ffa-bd50-875df4406144",
   "metadata": {},
   "source": [
    "*Millenial*\n",
    "- 462,125.00 - AA Alumni Association Funding \n",
    "- 250,770.00 - Golf Practice Facility \n",
    "- 200,125.00 - Baseball/Softball Complex "
   ]
  },
  {
   "cell_type": "markdown",
   "id": "035ec42c-b726-4559-b5df-89c69d7894e4",
   "metadata": {},
   "source": [
    "*Gen Z*\n",
    "- 14,425.77 - Robert & Esther Cooper's \"Science Student Award\" \n",
    "- 855.00 - WIPB-TV \n",
    "- 677.00 - Hoops for Scholars "
   ]
  },
  {
   "cell_type": "markdown",
   "id": "13d81d3f-a446-4ff2-b6ca-84ab6815777f",
   "metadata": {
    "tags": []
   },
   "source": [
    "### Generations based on # of loyals"
   ]
  },
  {
   "cell_type": "code",
   "execution_count": 42,
   "id": "c4b13dfe-bcb0-42b1-8117-ad03280cf81f",
   "metadata": {},
   "outputs": [
    {
     "data": {
      "text/html": [
       "<div>\n",
       "<style scoped>\n",
       "    .dataframe tbody tr th:only-of-type {\n",
       "        vertical-align: middle;\n",
       "    }\n",
       "\n",
       "    .dataframe tbody tr th {\n",
       "        vertical-align: top;\n",
       "    }\n",
       "\n",
       "    .dataframe thead th {\n",
       "        text-align: right;\n",
       "    }\n",
       "</style>\n",
       "<table border=\"1\" class=\"dataframe\">\n",
       "  <thead>\n",
       "    <tr style=\"text-align: right;\">\n",
       "      <th></th>\n",
       "      <th>System Record ID</th>\n",
       "      <th>Gift Amount</th>\n",
       "      <th>Fund Description</th>\n",
       "      <th>Age</th>\n",
       "      <th>Generation</th>\n",
       "      <th>Import ID</th>\n",
       "      <th>Membership Category</th>\n",
       "      <th>Date Joined</th>\n",
       "      <th>Consecutive Years</th>\n",
       "      <th>Last Renewed Date</th>\n",
       "      <th>Last Dropped Date</th>\n",
       "      <th>Expires On Date</th>\n",
       "      <th>Year Joined</th>\n",
       "      <th>Loyals</th>\n",
       "      <th>_merge</th>\n",
       "    </tr>\n",
       "  </thead>\n",
       "  <tbody>\n",
       "    <tr>\n",
       "      <th>0</th>\n",
       "      <td>60806</td>\n",
       "      <td>50.0</td>\n",
       "      <td>The Ball State Fund</td>\n",
       "      <td>64.0</td>\n",
       "      <td>Boomer</td>\n",
       "      <td>93578</td>\n",
       "      <td>Leaders and Loyals</td>\n",
       "      <td>2015-10-06</td>\n",
       "      <td>1</td>\n",
       "      <td>2017-06-26</td>\n",
       "      <td>NaN</td>\n",
       "      <td>2017-06-30</td>\n",
       "      <td>2015</td>\n",
       "      <td>Loyals</td>\n",
       "      <td>both</td>\n",
       "    </tr>\n",
       "    <tr>\n",
       "      <th>1</th>\n",
       "      <td>60806</td>\n",
       "      <td>50.0</td>\n",
       "      <td>The Ball State Fund</td>\n",
       "      <td>64.0</td>\n",
       "      <td>Boomer</td>\n",
       "      <td>93578</td>\n",
       "      <td>Leaders and Loyals</td>\n",
       "      <td>2015-10-06</td>\n",
       "      <td>1</td>\n",
       "      <td>2017-06-26</td>\n",
       "      <td>NaN</td>\n",
       "      <td>2017-06-30</td>\n",
       "      <td>2015</td>\n",
       "      <td>Loyals</td>\n",
       "      <td>both</td>\n",
       "    </tr>\n",
       "    <tr>\n",
       "      <th>2</th>\n",
       "      <td>60806</td>\n",
       "      <td>55.0</td>\n",
       "      <td>Miller College of Business General</td>\n",
       "      <td>64.0</td>\n",
       "      <td>Boomer</td>\n",
       "      <td>93578</td>\n",
       "      <td>Leaders and Loyals</td>\n",
       "      <td>2015-10-06</td>\n",
       "      <td>1</td>\n",
       "      <td>2017-06-26</td>\n",
       "      <td>NaN</td>\n",
       "      <td>2017-06-30</td>\n",
       "      <td>2015</td>\n",
       "      <td>Loyals</td>\n",
       "      <td>both</td>\n",
       "    </tr>\n",
       "  </tbody>\n",
       "</table>\n",
       "</div>"
      ],
      "text/plain": [
       "   System Record ID  Gift Amount                    Fund Description   Age  \\\n",
       "0             60806         50.0                 The Ball State Fund  64.0   \n",
       "1             60806         50.0                 The Ball State Fund  64.0   \n",
       "2             60806         55.0  Miller College of Business General  64.0   \n",
       "\n",
       "  Generation Import ID Membership Category Date Joined  Consecutive Years  \\\n",
       "0     Boomer     93578  Leaders and Loyals  2015-10-06                  1   \n",
       "1     Boomer     93578  Leaders and Loyals  2015-10-06                  1   \n",
       "2     Boomer     93578  Leaders and Loyals  2015-10-06                  1   \n",
       "\n",
       "  Last Renewed Date  Last Dropped Date Expires On Date  Year Joined  Loyals  \\\n",
       "0        2017-06-26                NaN      2017-06-30         2015  Loyals   \n",
       "1        2017-06-26                NaN      2017-06-30         2015  Loyals   \n",
       "2        2017-06-26                NaN      2017-06-30         2015  Loyals   \n",
       "\n",
       "  _merge  \n",
       "0   both  \n",
       "1   both  \n",
       "2   both  "
      ]
     },
     "execution_count": 42,
     "metadata": {},
     "output_type": "execute_result"
    }
   ],
   "source": [
    "# inner merge of merge2 table and loyals table\n",
    "gen_loyals = pd.merge(gen_df, loyals, on='System Record ID', indicator = True)\n",
    "gen_loyals.head(3)"
   ]
  },
  {
   "cell_type": "code",
   "execution_count": 43,
   "id": "06dbf1a4-6edd-4723-b383-c8bc0ef933f6",
   "metadata": {},
   "outputs": [
    {
     "data": {
      "text/html": [
       "<div>\n",
       "<style scoped>\n",
       "    .dataframe tbody tr th:only-of-type {\n",
       "        vertical-align: middle;\n",
       "    }\n",
       "\n",
       "    .dataframe tbody tr th {\n",
       "        vertical-align: top;\n",
       "    }\n",
       "\n",
       "    .dataframe thead th {\n",
       "        text-align: right;\n",
       "    }\n",
       "</style>\n",
       "<table border=\"1\" class=\"dataframe\">\n",
       "  <thead>\n",
       "    <tr style=\"text-align: right;\">\n",
       "      <th></th>\n",
       "      <th>System Record ID</th>\n",
       "      <th>Gift Amount</th>\n",
       "      <th>Fund Description</th>\n",
       "      <th>Age</th>\n",
       "      <th>Generation</th>\n",
       "      <th>Membership Category</th>\n",
       "      <th>Consecutive Years</th>\n",
       "    </tr>\n",
       "  </thead>\n",
       "  <tbody>\n",
       "    <tr>\n",
       "      <th>0</th>\n",
       "      <td>60806</td>\n",
       "      <td>50.0</td>\n",
       "      <td>The Ball State Fund</td>\n",
       "      <td>64.0</td>\n",
       "      <td>Boomer</td>\n",
       "      <td>Leaders and Loyals</td>\n",
       "      <td>1</td>\n",
       "    </tr>\n",
       "    <tr>\n",
       "      <th>1</th>\n",
       "      <td>60806</td>\n",
       "      <td>50.0</td>\n",
       "      <td>The Ball State Fund</td>\n",
       "      <td>64.0</td>\n",
       "      <td>Boomer</td>\n",
       "      <td>Leaders and Loyals</td>\n",
       "      <td>1</td>\n",
       "    </tr>\n",
       "    <tr>\n",
       "      <th>2</th>\n",
       "      <td>60806</td>\n",
       "      <td>55.0</td>\n",
       "      <td>Miller College of Business General</td>\n",
       "      <td>64.0</td>\n",
       "      <td>Boomer</td>\n",
       "      <td>Leaders and Loyals</td>\n",
       "      <td>1</td>\n",
       "    </tr>\n",
       "  </tbody>\n",
       "</table>\n",
       "</div>"
      ],
      "text/plain": [
       "   System Record ID  Gift Amount                    Fund Description   Age  \\\n",
       "0             60806         50.0                 The Ball State Fund  64.0   \n",
       "1             60806         50.0                 The Ball State Fund  64.0   \n",
       "2             60806         55.0  Miller College of Business General  64.0   \n",
       "\n",
       "  Generation Membership Category  Consecutive Years  \n",
       "0     Boomer  Leaders and Loyals                  1  \n",
       "1     Boomer  Leaders and Loyals                  1  \n",
       "2     Boomer  Leaders and Loyals                  1  "
      ]
     },
     "execution_count": 43,
     "metadata": {},
     "output_type": "execute_result"
    }
   ],
   "source": [
    "# show main columns for this question\n",
    "gl_df = gen_loyals.loc[:, [\"System Record ID\", \"Gift Amount\", \"Fund Description\", \"Age\",\"Generation\", \"Membership Category\", \"Consecutive Years\"]]\n",
    "gl_df.head(3)"
   ]
  },
  {
   "cell_type": "code",
   "execution_count": 44,
   "id": "083f73d2-be3b-49b4-8475-608741bd1b7e",
   "metadata": {},
   "outputs": [
    {
     "data": {
      "text/html": [
       "<div>\n",
       "<style scoped>\n",
       "    .dataframe tbody tr th:only-of-type {\n",
       "        vertical-align: middle;\n",
       "    }\n",
       "\n",
       "    .dataframe tbody tr th {\n",
       "        vertical-align: top;\n",
       "    }\n",
       "\n",
       "    .dataframe thead th {\n",
       "        text-align: right;\n",
       "    }\n",
       "</style>\n",
       "<table border=\"1\" class=\"dataframe\">\n",
       "  <thead>\n",
       "    <tr style=\"text-align: right;\">\n",
       "      <th></th>\n",
       "      <th>System Record ID</th>\n",
       "      <th>Gift Amount</th>\n",
       "      <th>Fund Description</th>\n",
       "      <th>Age</th>\n",
       "      <th>Generation</th>\n",
       "      <th>Membership Category</th>\n",
       "      <th>Consecutive Years</th>\n",
       "    </tr>\n",
       "  </thead>\n",
       "  <tbody>\n",
       "    <tr>\n",
       "      <th>0</th>\n",
       "      <td>60806</td>\n",
       "      <td>50.0</td>\n",
       "      <td>The Ball State Fund</td>\n",
       "      <td>64.0</td>\n",
       "      <td>Boomer</td>\n",
       "      <td>Leaders and Loyals</td>\n",
       "      <td>1</td>\n",
       "    </tr>\n",
       "    <tr>\n",
       "      <th>18</th>\n",
       "      <td>249510</td>\n",
       "      <td>100.0</td>\n",
       "      <td>WIPB-TV</td>\n",
       "      <td>65.0</td>\n",
       "      <td>Boomer</td>\n",
       "      <td>Leaders and Loyals</td>\n",
       "      <td>5</td>\n",
       "    </tr>\n",
       "    <tr>\n",
       "      <th>36</th>\n",
       "      <td>16094</td>\n",
       "      <td>100.0</td>\n",
       "      <td>Teachers College Dean's Fund for Excellence</td>\n",
       "      <td>71.0</td>\n",
       "      <td>Boomer</td>\n",
       "      <td>Leaders and Loyals</td>\n",
       "      <td>2</td>\n",
       "    </tr>\n",
       "  </tbody>\n",
       "</table>\n",
       "</div>"
      ],
      "text/plain": [
       "    System Record ID  Gift Amount  \\\n",
       "0              60806         50.0   \n",
       "18            249510        100.0   \n",
       "36             16094        100.0   \n",
       "\n",
       "                               Fund Description   Age Generation  \\\n",
       "0                           The Ball State Fund  64.0     Boomer   \n",
       "18                                      WIPB-TV  65.0     Boomer   \n",
       "36  Teachers College Dean's Fund for Excellence  71.0     Boomer   \n",
       "\n",
       "   Membership Category  Consecutive Years  \n",
       "0   Leaders and Loyals                  1  \n",
       "18  Leaders and Loyals                  5  \n",
       "36  Leaders and Loyals                  2  "
      ]
     },
     "execution_count": 44,
     "metadata": {},
     "output_type": "execute_result"
    }
   ],
   "source": [
    "# drop duplicate record IDs to form a count of loyals\n",
    "gl_df_nodups = gl_df.drop_duplicates(subset='System Record ID')\n",
    "gl_df_nodups.head(3)"
   ]
  },
  {
   "cell_type": "code",
   "execution_count": 45,
   "id": "1c8061dd-bada-4de8-b8a4-35885ef6813f",
   "metadata": {},
   "outputs": [
    {
     "data": {
      "text/plain": [
       "Generation  Membership Category\n",
       "Boomer      Leaders and Loyals     6471\n",
       "0           Leaders and Loyals     6017\n",
       "Gen X       Leaders and Loyals     3751\n",
       "Post War    Leaders and Loyals     3187\n",
       "Millenial   Leaders and Loyals     2939\n",
       "Gen Z       Leaders and Loyals        1\n",
       "Name: Membership Category, dtype: int64"
      ]
     },
     "execution_count": 45,
     "metadata": {},
     "output_type": "execute_result"
    }
   ],
   "source": [
    "# rank generation by # of loyals\n",
    "gl_df_count = gl_df_nodups.groupby([\"Generation\", 'Membership Category'])['Membership Category'].count()\n",
    "gl_df_count.sort_values(ascending=False).head(6)\n",
    "# 0 indicates no age associated with donor"
   ]
  },
  {
   "cell_type": "code",
   "execution_count": 46,
   "id": "f87e18ba-571c-4485-9839-a69482eeded0",
   "metadata": {},
   "outputs": [
    {
     "data": {
      "text/plain": [
       "Text(0, 0.5, 'Count of Loyals')"
      ]
     },
     "execution_count": 46,
     "metadata": {},
     "output_type": "execute_result"
    },
    {
     "data": {
      "image/png": "[encoded data removed]",
      "text/plain": [
       "<Figure size 432x288 with 1 Axes>"
      ]
     },
     "metadata": {
      "needs_background": "light"
     },
     "output_type": "display_data"
    }
   ],
   "source": [
    "#add results into bar chart\n",
    "gl_df_nodups.pivot_table(index=['Generation'],columns='Membership Category',aggfunc='size').loc[gen_order].plot(kind='bar', legend =False, title=\"Number of Loyals in Each Generation\").set_ylabel(\"Count of Loyals\")"
   ]
  },
  {
   "cell_type": "markdown",
   "id": "e6bf42ab-0820-4a96-a922-eb55967fb455",
   "metadata": {
    "tags": []
   },
   "source": [
    "### How long does it take from graduation for alumni to engage as loyal donors?"
   ]
  },
  {
   "cell_type": "markdown",
   "id": "18d13f35-13eb-415b-b913-79e38328590c",
   "metadata": {},
   "source": [
    "**Rank recent graduation years based on # of loyals**"
   ]
  },
  {
   "cell_type": "code",
   "execution_count": 47,
   "id": "24df52de-f69e-4a07-a525-ae78e93906d0",
   "metadata": {},
   "outputs": [
    {
     "data": {
      "text/html": [
       "<div>\n",
       "<style scoped>\n",
       "    .dataframe tbody tr th:only-of-type {\n",
       "        vertical-align: middle;\n",
       "    }\n",
       "\n",
       "    .dataframe tbody tr th {\n",
       "        vertical-align: top;\n",
       "    }\n",
       "\n",
       "    .dataframe thead th {\n",
       "        text-align: right;\n",
       "    }\n",
       "</style>\n",
       "<table border=\"1\" class=\"dataframe\">\n",
       "  <thead>\n",
       "    <tr style=\"text-align: right;\">\n",
       "      <th></th>\n",
       "      <th>System Record ID</th>\n",
       "      <th>Gift Amount</th>\n",
       "      <th>Fund Description</th>\n",
       "      <th>Class of</th>\n",
       "      <th>Class Year of</th>\n",
       "    </tr>\n",
       "  </thead>\n",
       "  <tbody>\n",
       "    <tr>\n",
       "      <th>0</th>\n",
       "      <td>60806</td>\n",
       "      <td>50.0</td>\n",
       "      <td>The Ball State Fund</td>\n",
       "      <td>'79</td>\n",
       "      <td>1979</td>\n",
       "    </tr>\n",
       "    <tr>\n",
       "      <th>1</th>\n",
       "      <td>60806</td>\n",
       "      <td>50.0</td>\n",
       "      <td>The Ball State Fund</td>\n",
       "      <td>'79</td>\n",
       "      <td>1979</td>\n",
       "    </tr>\n",
       "    <tr>\n",
       "      <th>2</th>\n",
       "      <td>60806</td>\n",
       "      <td>55.0</td>\n",
       "      <td>Miller College of Business General</td>\n",
       "      <td>'79</td>\n",
       "      <td>1979</td>\n",
       "    </tr>\n",
       "    <tr>\n",
       "      <th>3</th>\n",
       "      <td>60806</td>\n",
       "      <td>55.0</td>\n",
       "      <td>Miller College of Business General</td>\n",
       "      <td>'79</td>\n",
       "      <td>1979</td>\n",
       "    </tr>\n",
       "    <tr>\n",
       "      <th>4</th>\n",
       "      <td>60806</td>\n",
       "      <td>75.0</td>\n",
       "      <td>The Ball State Fund</td>\n",
       "      <td>'79</td>\n",
       "      <td>1979</td>\n",
       "    </tr>\n",
       "  </tbody>\n",
       "</table>\n",
       "</div>"
      ],
      "text/plain": [
       "   System Record ID  Gift Amount                    Fund Description Class of  \\\n",
       "0             60806         50.0                 The Ball State Fund      '79   \n",
       "1             60806         50.0                 The Ball State Fund      '79   \n",
       "2             60806         55.0  Miller College of Business General      '79   \n",
       "3             60806         55.0  Miller College of Business General      '79   \n",
       "4             60806         75.0                 The Ball State Fund      '79   \n",
       "\n",
       "  Class Year of  \n",
       "0          1979  \n",
       "1          1979  \n",
       "2          1979  \n",
       "3          1979  \n",
       "4          1979  "
      ]
     },
     "execution_count": 47,
     "metadata": {},
     "output_type": "execute_result"
    }
   ],
   "source": [
    "#Inner merge of gift_df and educ_df to combine gift amount and class of donor\n",
    "gift_edu = pd.merge(gift_df, edu_df, on='System Record ID', indicator = True)\n",
    "# show main columns for this question\n",
    "alum_edu = gift_edu.loc[:, [\"System Record ID\", \"Gift Amount\", \"Fund Description\",\"Class of\", \"Class Year of\"]]\n",
    "alum_edu.head(5)"
   ]
  },
  {
   "cell_type": "code",
   "execution_count": 48,
   "id": "9bc85086-ea06-4731-8fba-522f7a1fa7cf",
   "metadata": {},
   "outputs": [
    {
     "data": {
      "text/html": [
       "<div>\n",
       "<style scoped>\n",
       "    .dataframe tbody tr th:only-of-type {\n",
       "        vertical-align: middle;\n",
       "    }\n",
       "\n",
       "    .dataframe tbody tr th {\n",
       "        vertical-align: top;\n",
       "    }\n",
       "\n",
       "    .dataframe thead th {\n",
       "        text-align: right;\n",
       "    }\n",
       "</style>\n",
       "<table border=\"1\" class=\"dataframe\">\n",
       "  <thead>\n",
       "    <tr style=\"text-align: right;\">\n",
       "      <th></th>\n",
       "      <th>System Record ID</th>\n",
       "      <th>Gift Amount</th>\n",
       "      <th>Fund Description</th>\n",
       "      <th>Class of</th>\n",
       "      <th>Class Year of</th>\n",
       "      <th>Date Joined</th>\n",
       "      <th>Year Joined</th>\n",
       "    </tr>\n",
       "  </thead>\n",
       "  <tbody>\n",
       "    <tr>\n",
       "      <th>0</th>\n",
       "      <td>60806</td>\n",
       "      <td>50.0</td>\n",
       "      <td>The Ball State Fund</td>\n",
       "      <td>'79</td>\n",
       "      <td>1979</td>\n",
       "      <td>2015-10-06</td>\n",
       "      <td>2015</td>\n",
       "    </tr>\n",
       "    <tr>\n",
       "      <th>36</th>\n",
       "      <td>16094</td>\n",
       "      <td>100.0</td>\n",
       "      <td>Teachers College Dean's Fund for Excellence</td>\n",
       "      <td>'73</td>\n",
       "      <td>1973</td>\n",
       "      <td>2018-03-15</td>\n",
       "      <td>2018</td>\n",
       "    </tr>\n",
       "    <tr>\n",
       "      <th>59</th>\n",
       "      <td>163736</td>\n",
       "      <td>500.0</td>\n",
       "      <td>The Ball State Fund</td>\n",
       "      <td>'98</td>\n",
       "      <td>1998</td>\n",
       "      <td>2015-11-18</td>\n",
       "      <td>2015</td>\n",
       "    </tr>\n",
       "    <tr>\n",
       "      <th>84</th>\n",
       "      <td>35343</td>\n",
       "      <td>50.0</td>\n",
       "      <td>Student Scholarships</td>\n",
       "      <td>'69</td>\n",
       "      <td>1969</td>\n",
       "      <td>2019-12-31</td>\n",
       "      <td>2019</td>\n",
       "    </tr>\n",
       "    <tr>\n",
       "      <th>576</th>\n",
       "      <td>64789</td>\n",
       "      <td>2500.0</td>\n",
       "      <td>Cardinal Excellence Fund</td>\n",
       "      <td>'80</td>\n",
       "      <td>1980</td>\n",
       "      <td>2015-09-17</td>\n",
       "      <td>2015</td>\n",
       "    </tr>\n",
       "  </tbody>\n",
       "</table>\n",
       "</div>"
      ],
      "text/plain": [
       "     System Record ID  Gift Amount  \\\n",
       "0               60806         50.0   \n",
       "36              16094        100.0   \n",
       "59             163736        500.0   \n",
       "84              35343         50.0   \n",
       "576             64789       2500.0   \n",
       "\n",
       "                                Fund Description Class of Class Year of  \\\n",
       "0                            The Ball State Fund      '79          1979   \n",
       "36   Teachers College Dean's Fund for Excellence      '73          1973   \n",
       "59                           The Ball State Fund      '98          1998   \n",
       "84                          Student Scholarships      '69          1969   \n",
       "576                     Cardinal Excellence Fund      '80          1980   \n",
       "\n",
       "    Date Joined  Year Joined  \n",
       "0    2015-10-06         2015  \n",
       "36   2018-03-15         2018  \n",
       "59   2015-11-18         2015  \n",
       "84   2019-12-31         2019  \n",
       "576  2015-09-17         2015  "
      ]
     },
     "execution_count": 48,
     "metadata": {},
     "output_type": "execute_result"
    }
   ],
   "source": [
    "#Inner merge of alum_edu and loyals to combine gift amount, class of donor, and loyal membership year joined\n",
    "alum_edu_loyals = pd.merge(alum_edu, loyals, on='System Record ID', indicator = True)\n",
    "# show main columns for this question\n",
    "alum_edu_loyals2 = alum_edu_loyals.loc[:, [\"System Record ID\", \"Gift Amount\", \"Fund Description\",\"Class of\", \"Class Year of\", \"Date Joined\", \"Year Joined\"]]\n",
    "# remove duplicates and NA's to show count of loyals\n",
    "alum_edu_loyals_nodups = alum_edu_loyals2.drop_duplicates(subset='System Record ID').dropna()\n",
    "alum_edu_loyals_nodups.head(5)"
   ]
  },
  {
   "cell_type": "code",
   "execution_count": 49,
   "id": "dfdb60de-423d-4df9-bc17-8551a15be5a8",
   "metadata": {},
   "outputs": [],
   "source": [
    "# making sure both columns are of int type to calculate difference between Year Joined and Class Year of donor\n",
    "alum_edu_loyals_nodups['Class Year of'] = alum_edu_loyals_nodups['Class Year of'].astype(int)\n",
    "alum_edu_loyals_nodups ['Year Joined'] = alum_edu_loyals_nodups['Year Joined'].astype(int)"
   ]
  },
  {
   "cell_type": "code",
   "execution_count": 50,
   "id": "871925bb-2aa4-49cf-ac3a-270506c91060",
   "metadata": {},
   "outputs": [
    {
     "data": {
      "text/html": [
       "<div>\n",
       "<style scoped>\n",
       "    .dataframe tbody tr th:only-of-type {\n",
       "        vertical-align: middle;\n",
       "    }\n",
       "\n",
       "    .dataframe tbody tr th {\n",
       "        vertical-align: top;\n",
       "    }\n",
       "\n",
       "    .dataframe thead th {\n",
       "        text-align: right;\n",
       "    }\n",
       "</style>\n",
       "<table border=\"1\" class=\"dataframe\">\n",
       "  <thead>\n",
       "    <tr style=\"text-align: right;\">\n",
       "      <th></th>\n",
       "      <th>System Record ID</th>\n",
       "      <th>Gift Amount</th>\n",
       "      <th>Fund Description</th>\n",
       "      <th>Class of</th>\n",
       "      <th>Class Year of</th>\n",
       "      <th>Date Joined</th>\n",
       "      <th>Year Joined</th>\n",
       "      <th>Years since graduation</th>\n",
       "      <th>Years since launch</th>\n",
       "    </tr>\n",
       "  </thead>\n",
       "  <tbody>\n",
       "    <tr>\n",
       "      <th>0</th>\n",
       "      <td>60806</td>\n",
       "      <td>50.0</td>\n",
       "      <td>The Ball State Fund</td>\n",
       "      <td>'79</td>\n",
       "      <td>1979</td>\n",
       "      <td>2015-10-06</td>\n",
       "      <td>2015</td>\n",
       "      <td>36</td>\n",
       "      <td>0</td>\n",
       "    </tr>\n",
       "    <tr>\n",
       "      <th>36</th>\n",
       "      <td>16094</td>\n",
       "      <td>100.0</td>\n",
       "      <td>Teachers College Dean's Fund for Excellence</td>\n",
       "      <td>'73</td>\n",
       "      <td>1973</td>\n",
       "      <td>2018-03-15</td>\n",
       "      <td>2018</td>\n",
       "      <td>45</td>\n",
       "      <td>3</td>\n",
       "    </tr>\n",
       "    <tr>\n",
       "      <th>59</th>\n",
       "      <td>163736</td>\n",
       "      <td>500.0</td>\n",
       "      <td>The Ball State Fund</td>\n",
       "      <td>'98</td>\n",
       "      <td>1998</td>\n",
       "      <td>2015-11-18</td>\n",
       "      <td>2015</td>\n",
       "      <td>17</td>\n",
       "      <td>0</td>\n",
       "    </tr>\n",
       "    <tr>\n",
       "      <th>84</th>\n",
       "      <td>35343</td>\n",
       "      <td>50.0</td>\n",
       "      <td>Student Scholarships</td>\n",
       "      <td>'69</td>\n",
       "      <td>1969</td>\n",
       "      <td>2019-12-31</td>\n",
       "      <td>2019</td>\n",
       "      <td>50</td>\n",
       "      <td>4</td>\n",
       "    </tr>\n",
       "    <tr>\n",
       "      <th>576</th>\n",
       "      <td>64789</td>\n",
       "      <td>2500.0</td>\n",
       "      <td>Cardinal Excellence Fund</td>\n",
       "      <td>'80</td>\n",
       "      <td>1980</td>\n",
       "      <td>2015-09-17</td>\n",
       "      <td>2015</td>\n",
       "      <td>35</td>\n",
       "      <td>0</td>\n",
       "    </tr>\n",
       "  </tbody>\n",
       "</table>\n",
       "</div>"
      ],
      "text/plain": [
       "     System Record ID  Gift Amount  \\\n",
       "0               60806         50.0   \n",
       "36              16094        100.0   \n",
       "59             163736        500.0   \n",
       "84              35343         50.0   \n",
       "576             64789       2500.0   \n",
       "\n",
       "                                Fund Description Class of  Class Year of  \\\n",
       "0                            The Ball State Fund      '79           1979   \n",
       "36   Teachers College Dean's Fund for Excellence      '73           1973   \n",
       "59                           The Ball State Fund      '98           1998   \n",
       "84                          Student Scholarships      '69           1969   \n",
       "576                     Cardinal Excellence Fund      '80           1980   \n",
       "\n",
       "    Date Joined  Year Joined  Years since graduation  Years since launch  \n",
       "0    2015-10-06         2015                      36                   0  \n",
       "36   2018-03-15         2018                      45                   3  \n",
       "59   2015-11-18         2015                      17                   0  \n",
       "84   2019-12-31         2019                      50                   4  \n",
       "576  2015-09-17         2015                      35                   0  "
      ]
     },
     "execution_count": 50,
     "metadata": {},
     "output_type": "execute_result"
    }
   ],
   "source": [
    "# calculate years it took donors to become loyals from graduation year (scrap and use formula below?)\n",
    "alum_edu_loyals_nodups[\"Years since graduation\"] = alum_edu_loyals_nodups[\"Year Joined\"] - alum_edu_loyals_nodups[\"Class Year of\"]\n",
    "# calculate years it took donors to become loyals from 2015 (launch year? - it was the oldest date on membership file)\n",
    "alum_edu_loyals_nodups[\"Years since launch\"] = alum_edu_loyals_nodups[\"Year Joined\"] - 2015\n",
    "alum_edu_loyals_nodups.head(5)"
   ]
  },
  {
   "cell_type": "code",
   "execution_count": 51,
   "id": "0fe05ce1-2ee9-4195-a0b9-e29c8005aa49",
   "metadata": {},
   "outputs": [
    {
     "data": {
      "text/plain": [
       "Class Year of\n",
       "1940    0.000000\n",
       "1941    0.000000\n",
       "1944    0.200000\n",
       "1947    0.363636\n",
       "1942    0.500000\n",
       "1946    0.600000\n",
       "1948    0.615385\n",
       "1953    0.820513\n",
       "1956    0.853333\n",
       "1951    0.857143\n",
       "Name: Years since launch, dtype: float64"
      ]
     },
     "execution_count": 51,
     "metadata": {},
     "output_type": "execute_result"
    }
   ],
   "source": [
    "# group graduation year by average Years since launch\n",
    "alum_edu_loyals_grp = alum_edu_loyals_nodups.groupby(\"Class Year of\")['Years since launch'].mean()\n",
    "alum_edu_loyals_grp.sort_values(ascending=True).head(10)\n",
    "# for example, the average years it took donors in class of 1940 to become loyals was 0\n",
    "# ie, many were probably already qualified for loyal membership when the program launched"
   ]
  },
  {
   "cell_type": "code",
   "execution_count": 52,
   "id": "02445249-69af-4cb0-8725-4c098e810094",
   "metadata": {},
   "outputs": [
    {
     "data": {
      "text/html": [
       "<div>\n",
       "<style scoped>\n",
       "    .dataframe tbody tr th:only-of-type {\n",
       "        vertical-align: middle;\n",
       "    }\n",
       "\n",
       "    .dataframe tbody tr th {\n",
       "        vertical-align: top;\n",
       "    }\n",
       "\n",
       "    .dataframe thead th {\n",
       "        text-align: right;\n",
       "    }\n",
       "</style>\n",
       "<table border=\"1\" class=\"dataframe\">\n",
       "  <thead>\n",
       "    <tr style=\"text-align: right;\">\n",
       "      <th></th>\n",
       "      <th>System Record ID</th>\n",
       "      <th>Gift Amount</th>\n",
       "      <th>Fund Description</th>\n",
       "      <th>Class of</th>\n",
       "      <th>Class Year of</th>\n",
       "      <th>Date Joined</th>\n",
       "      <th>Year Joined</th>\n",
       "      <th>Years since graduation</th>\n",
       "      <th>Years since launch</th>\n",
       "    </tr>\n",
       "  </thead>\n",
       "  <tbody>\n",
       "    <tr>\n",
       "      <th>1825</th>\n",
       "      <td>265389</td>\n",
       "      <td>25.0</td>\n",
       "      <td>Honors College</td>\n",
       "      <td>'14</td>\n",
       "      <td>2014</td>\n",
       "      <td>2016-07-29</td>\n",
       "      <td>2016</td>\n",
       "      <td>2</td>\n",
       "      <td>1</td>\n",
       "    </tr>\n",
       "    <tr>\n",
       "      <th>4687</th>\n",
       "      <td>264719</td>\n",
       "      <td>25.0</td>\n",
       "      <td>AA Alumni Association Funding</td>\n",
       "      <td>'14</td>\n",
       "      <td>2014</td>\n",
       "      <td>2015-09-17</td>\n",
       "      <td>2015</td>\n",
       "      <td>1</td>\n",
       "      <td>0</td>\n",
       "    </tr>\n",
       "    <tr>\n",
       "      <th>4802</th>\n",
       "      <td>239143</td>\n",
       "      <td>250.0</td>\n",
       "      <td>Center for Information and Communication Science</td>\n",
       "      <td>'10</td>\n",
       "      <td>2010</td>\n",
       "      <td>2017-06-26</td>\n",
       "      <td>2017</td>\n",
       "      <td>7</td>\n",
       "      <td>2</td>\n",
       "    </tr>\n",
       "    <tr>\n",
       "      <th>6449</th>\n",
       "      <td>236887</td>\n",
       "      <td>50.0</td>\n",
       "      <td>The Ball State Fund</td>\n",
       "      <td>'10</td>\n",
       "      <td>2010</td>\n",
       "      <td>2015-09-17</td>\n",
       "      <td>2015</td>\n",
       "      <td>5</td>\n",
       "      <td>0</td>\n",
       "    </tr>\n",
       "    <tr>\n",
       "      <th>16336</th>\n",
       "      <td>266592</td>\n",
       "      <td>10.0</td>\n",
       "      <td>Greater Indianapolis Alumni Chapter Scholarship</td>\n",
       "      <td>'14</td>\n",
       "      <td>2014</td>\n",
       "      <td>2017-06-26</td>\n",
       "      <td>2017</td>\n",
       "      <td>3</td>\n",
       "      <td>2</td>\n",
       "    </tr>\n",
       "  </tbody>\n",
       "</table>\n",
       "</div>"
      ],
      "text/plain": [
       "       System Record ID  Gift Amount  \\\n",
       "1825             265389         25.0   \n",
       "4687             264719         25.0   \n",
       "4802             239143        250.0   \n",
       "6449             236887         50.0   \n",
       "16336            266592         10.0   \n",
       "\n",
       "                                       Fund Description Class of  \\\n",
       "1825                                     Honors College      '14   \n",
       "4687                      AA Alumni Association Funding      '14   \n",
       "4802   Center for Information and Communication Science      '10   \n",
       "6449                                The Ball State Fund      '10   \n",
       "16336   Greater Indianapolis Alumni Chapter Scholarship      '14   \n",
       "\n",
       "       Class Year of Date Joined  Year Joined  Years since graduation  \\\n",
       "1825            2014  2016-07-29         2016                       2   \n",
       "4687            2014  2015-09-17         2015                       1   \n",
       "4802            2010  2017-06-26         2017                       7   \n",
       "6449            2010  2015-09-17         2015                       5   \n",
       "16336           2014  2017-06-26         2017                       3   \n",
       "\n",
       "       Years since launch  \n",
       "1825                    1  \n",
       "4687                    0  \n",
       "4802                    2  \n",
       "6449                    0  \n",
       "16336                   2  "
      ]
     },
     "execution_count": 52,
     "metadata": {},
     "output_type": "execute_result"
    }
   ],
   "source": [
    "# filter more recent graduation years (2010 and above)\n",
    "alum_loyals_recent = alum_edu_loyals_nodups.loc[alum_edu_loyals_nodups['Class Year of']>=2010] \n",
    "alum_loyals_recent.head(5)"
   ]
  },
  {
   "cell_type": "code",
   "execution_count": 53,
   "id": "307619bb-a548-445e-81ba-e4904e1ef4fe",
   "metadata": {},
   "outputs": [
    {
     "data": {
      "text/plain": [
       "Class Year of\n",
       "2010    1.872449\n",
       "2011    2.014151\n",
       "2013    2.125000\n",
       "2012    2.188406\n",
       "2014    2.301887\n",
       "2015    2.881443\n",
       "2016    3.200000\n",
       "2017    3.493243\n",
       "2020    3.738095\n",
       "2019    3.818182\n",
       "2018    3.887097\n",
       "2021    3.952381\n",
       "Name: Years since launch, dtype: float64"
      ]
     },
     "execution_count": 53,
     "metadata": {},
     "output_type": "execute_result"
    }
   ],
   "source": [
    "# group graduation year by average Years since launch\n",
    "alum_loyals_recentg = alum_loyals_recent.groupby(\"Class Year of\")['Years since launch'].mean()\n",
    "alum_loyals_recentg.sort_values(ascending=True)\n",
    "# ie, it takes about 1.87 years after the program launch for the class of 2010 to become loyal donors\n",
    "# this is a more fair calculation for classes before 2015 (2015 is assumed launch year of program)"
   ]
  },
  {
   "cell_type": "code",
   "execution_count": 54,
   "id": "23df7fda-e67e-4d97-9c4b-ea508c70d0ce",
   "metadata": {},
   "outputs": [
    {
     "data": {
      "text/plain": [
       "Class Year of\n",
       "2021   -2.047619\n",
       "2020   -1.261905\n",
       "2019   -0.181818\n",
       "2018    0.887097\n",
       "2017    1.493243\n",
       "2016    2.200000\n",
       "2015    2.881443\n",
       "2014    3.301887\n",
       "2013    4.125000\n",
       "2012    5.188406\n",
       "2011    6.014151\n",
       "2010    6.872449\n",
       "Name: Years since graduation, dtype: float64"
      ]
     },
     "execution_count": 54,
     "metadata": {},
     "output_type": "execute_result"
    }
   ],
   "source": [
    "# group graduation year by average Years since graduation\n",
    "alum_loyals_recentg = alum_loyals_recent.groupby(\"Class Year of\")['Years since graduation'].mean()\n",
    "alum_loyals_recentg.sort_values(ascending=True)\n",
    "# ie, it takes about 1.49 years after graduation for the class of 2017 to become loyal donors\n",
    "# this is a more fair calculation for classes after 2015"
   ]
  },
  {
   "cell_type": "markdown",
   "id": "dc0f344e-9e40-4bfc-b04b-5b035659d6c8",
   "metadata": {},
   "source": [
    "**It typically takes around 1 - 3 years after graduation for recent grads to become loyal donors. Based on the above data, 2018-2021 grads donated while they were still attending school therefore becoming loyal members before (or shortly after) graduating.**"
   ]
  },
  {
   "cell_type": "markdown",
   "id": "8e9580a6-a019-4f47-aa56-ec59ee44a7b9",
   "metadata": {},
   "source": [
    "More explaination of 2015 changing calculations:\n",
    "- Graduate years before 2015 appear to have longer time before gaining loyal status if \"Years since graduation\" is used because they did not know about program before 2015 so I used \"Years since launch\".\n",
    "- Graduate years after 2015 appear to have longer time before gaining loyal status if \"Years since launch\" is used because they weren't graduated yet and most likely hadn't started donating yet so I used \"Years since graduation\"."
   ]
  },
  {
   "cell_type": "markdown",
   "id": "9b9b246f-fbbc-4a76-8dd4-bb97b4881629",
   "metadata": {
    "tags": []
   },
   "source": [
    "## Create Master Data Set for Upcoming Analysis"
   ]
  },
  {
   "cell_type": "code",
   "execution_count": 55,
   "id": "9a25a65e-5e43-4519-98e0-6635e1a05724",
   "metadata": {},
   "outputs": [
    {
     "data": {
      "text/plain": [
       "32552"
      ]
     },
     "execution_count": 55,
     "metadata": {},
     "output_type": "execute_result"
    }
   ],
   "source": [
    "#Join edu_df with bio_df then check the number of records\n",
    "bio_edu_df = pd.merge(edu_df, bio_df,on='System Record ID')\n",
    "bio_edu_df.shape[0]"
   ]
  },
  {
   "cell_type": "code",
   "execution_count": 56,
   "id": "42e8544c-0425-4c1c-9404-370b1308cb35",
   "metadata": {},
   "outputs": [
    {
     "data": {
      "text/plain": [
       "23740"
      ]
     },
     "execution_count": 56,
     "metadata": {},
     "output_type": "execute_result"
    }
   ],
   "source": [
    "#Left join loyal_leaders with bio_edu_df then check number of records\n",
    "llb_df = pd.merge(loyal_leaders, bio_edu_df,on='System Record ID', how = 'left')\n",
    "llb_df.shape[0]"
   ]
  },
  {
   "cell_type": "code",
   "execution_count": 57,
   "id": "5ec81048-a034-4ef0-a7b0-7099253b1961",
   "metadata": {},
   "outputs": [
    {
     "data": {
      "text/html": [
       "<div>\n",
       "<style scoped>\n",
       "    .dataframe tbody tr th:only-of-type {\n",
       "        vertical-align: middle;\n",
       "    }\n",
       "\n",
       "    .dataframe tbody tr th {\n",
       "        vertical-align: top;\n",
       "    }\n",
       "\n",
       "    .dataframe thead th {\n",
       "        text-align: right;\n",
       "    }\n",
       "</style>\n",
       "<table border=\"1\" class=\"dataframe\">\n",
       "  <thead>\n",
       "    <tr style=\"text-align: right;\">\n",
       "      <th></th>\n",
       "      <th>System Record ID</th>\n",
       "      <th>College</th>\n",
       "      <th>Department</th>\n",
       "      <th>Greek Affiliation</th>\n",
       "      <th>Leaders</th>\n",
       "      <th>Loyals</th>\n",
       "      <th>Designation</th>\n",
       "      <th>Martial Status</th>\n",
       "      <th>Gender</th>\n",
       "      <th>Class of</th>\n",
       "    </tr>\n",
       "  </thead>\n",
       "  <tbody>\n",
       "    <tr>\n",
       "      <th>0</th>\n",
       "      <td>93620</td>\n",
       "      <td>CSH College of Sciences &amp; Humanities</td>\n",
       "      <td>Dept of Political Science</td>\n",
       "      <td>NaN</td>\n",
       "      <td>Leaders</td>\n",
       "      <td>Loyals</td>\n",
       "      <td>Both</td>\n",
       "      <td>Married</td>\n",
       "      <td>Female</td>\n",
       "      <td>'88</td>\n",
       "    </tr>\n",
       "    <tr>\n",
       "      <th>1</th>\n",
       "      <td>93805</td>\n",
       "      <td>TC Teachers College</td>\n",
       "      <td>Dept of Educational Leadership</td>\n",
       "      <td>NaN</td>\n",
       "      <td>Leaders</td>\n",
       "      <td>Loyals</td>\n",
       "      <td>Both</td>\n",
       "      <td>Divorced</td>\n",
       "      <td>Female</td>\n",
       "      <td>'08</td>\n",
       "    </tr>\n",
       "    <tr>\n",
       "      <th>2</th>\n",
       "      <td>93866</td>\n",
       "      <td>TC Teachers College</td>\n",
       "      <td>Dept of Educational Leadership</td>\n",
       "      <td>NaN</td>\n",
       "      <td>NaN</td>\n",
       "      <td>Loyals</td>\n",
       "      <td>Loyal</td>\n",
       "      <td>Married</td>\n",
       "      <td>Male</td>\n",
       "      <td>'07</td>\n",
       "    </tr>\n",
       "  </tbody>\n",
       "</table>\n",
       "</div>"
      ],
      "text/plain": [
       "   System Record ID                               College  \\\n",
       "0             93620  CSH College of Sciences & Humanities   \n",
       "1             93805                   TC Teachers College   \n",
       "2             93866                   TC Teachers College   \n",
       "\n",
       "                       Department Greek Affiliation  Leaders  Loyals  \\\n",
       "0       Dept of Political Science               NaN  Leaders  Loyals   \n",
       "1  Dept of Educational Leadership               NaN  Leaders  Loyals   \n",
       "2  Dept of Educational Leadership               NaN      NaN  Loyals   \n",
       "\n",
       "  Designation Martial Status  Gender Class of  \n",
       "0        Both        Married  Female      '88  \n",
       "1        Both       Divorced  Female      '08  \n",
       "2       Loyal        Married    Male      '07  "
      ]
     },
     "execution_count": 57,
     "metadata": {},
     "output_type": "execute_result"
    }
   ],
   "source": [
    "#Pull our columns for analysis and create master df\n",
    "master = llb_df.loc[:, [\"System Record ID\", \"College\",\"Department\", \"Greek Affiliation\",\"Leaders\", \"Loyals\", \"Designation\", \"Martial Status\", \"Gender\",\"Class of\"]]\n",
    "master.head(3)"
   ]
  },
  {
   "cell_type": "markdown",
   "id": "3c4d8d0e-71f9-4862-9c75-d5a71c4b9c61",
   "metadata": {
    "tags": []
   },
   "source": [
    "## Donor Designation by Gender"
   ]
  },
  {
   "cell_type": "code",
   "execution_count": 58,
   "id": "8e32844f-74a8-4f30-85e8-97b7859a06e9",
   "metadata": {},
   "outputs": [
    {
     "data": {
      "text/html": [
       "<div>\n",
       "<style scoped>\n",
       "    .dataframe tbody tr th:only-of-type {\n",
       "        vertical-align: middle;\n",
       "    }\n",
       "\n",
       "    .dataframe tbody tr th {\n",
       "        vertical-align: top;\n",
       "    }\n",
       "\n",
       "    .dataframe thead th {\n",
       "        text-align: right;\n",
       "    }\n",
       "</style>\n",
       "<table border=\"1\" class=\"dataframe\">\n",
       "  <thead>\n",
       "    <tr style=\"text-align: right;\">\n",
       "      <th>Gender</th>\n",
       "      <th>Female</th>\n",
       "      <th>Male</th>\n",
       "      <th>Unknown</th>\n",
       "    </tr>\n",
       "    <tr>\n",
       "      <th>Designation</th>\n",
       "      <th></th>\n",
       "      <th></th>\n",
       "      <th></th>\n",
       "    </tr>\n",
       "  </thead>\n",
       "  <tbody>\n",
       "    <tr>\n",
       "      <th>Both</th>\n",
       "      <td>1080</td>\n",
       "      <td>1270</td>\n",
       "      <td>0</td>\n",
       "    </tr>\n",
       "    <tr>\n",
       "      <th>Leader</th>\n",
       "      <td>179</td>\n",
       "      <td>231</td>\n",
       "      <td>0</td>\n",
       "    </tr>\n",
       "    <tr>\n",
       "      <th>Loyal</th>\n",
       "      <td>7069</td>\n",
       "      <td>5518</td>\n",
       "      <td>0</td>\n",
       "    </tr>\n",
       "  </tbody>\n",
       "</table>\n",
       "</div>"
      ],
      "text/plain": [
       "Gender       Female  Male  Unknown\n",
       "Designation                       \n",
       "Both           1080  1270        0\n",
       "Leader          179   231        0\n",
       "Loyal          7069  5518        0"
      ]
     },
     "execution_count": 58,
     "metadata": {},
     "output_type": "execute_result"
    }
   ],
   "source": [
    "llb_p = master.groupby(['Designation','Gender'])['College'].count().unstack('Gender')\n",
    "llb_p"
   ]
  },
  {
   "cell_type": "markdown",
   "id": "bd105054-8578-4168-97d0-a80974fb5d7b",
   "metadata": {},
   "source": [
    "Plot Results via Charts"
   ]
  },
  {
   "cell_type": "code",
   "execution_count": 59,
   "id": "940d0b0c-1665-4145-afdc-46de302a6c44",
   "metadata": {},
   "outputs": [
    {
     "data": {
      "image/png": "[encoded data removed]",
      "text/plain": [
       "<Figure size 432x288 with 1 Axes>"
      ]
     },
     "metadata": {},
     "output_type": "display_data"
    },
    {
     "data": {
      "image/png": "[encoded data removed]",
      "text/plain": [
       "<Figure size 432x288 with 1 Axes>"
      ]
     },
     "metadata": {
      "needs_background": "light"
     },
     "output_type": "display_data"
    }
   ],
   "source": [
    "plot = master.Designation.value_counts().plot(kind='pie', autopct='%1.0f%%', colors = ['red', 'orange', 'steelblue'],title='Loyal vs/ Both vs. Leader')\n",
    "plot_2 = llb_p [['Male','Female']].plot(kind='bar', stacked=False, title ='Total Donors by College - Loyal/Leader/Both', color =['g','y'])\n",
    "\n",
    "plt.tight_layout()"
   ]
  },
  {
   "cell_type": "markdown",
   "id": "e5cbfa99-4a0e-4978-9cb9-afbcaac168da",
   "metadata": {
    "tags": []
   },
   "source": [
    "## Donor Designation by Martial Status"
   ]
  },
  {
   "cell_type": "code",
   "execution_count": 60,
   "id": "e334f62c-3e05-4d39-a25b-484bf9eb7fe3",
   "metadata": {},
   "outputs": [
    {
     "data": {
      "text/html": [
       "<div>\n",
       "<style scoped>\n",
       "    .dataframe tbody tr th:only-of-type {\n",
       "        vertical-align: middle;\n",
       "    }\n",
       "\n",
       "    .dataframe tbody tr th {\n",
       "        vertical-align: top;\n",
       "    }\n",
       "\n",
       "    .dataframe thead th {\n",
       "        text-align: right;\n",
       "    }\n",
       "</style>\n",
       "<table border=\"1\" class=\"dataframe\">\n",
       "  <thead>\n",
       "    <tr style=\"text-align: right;\">\n",
       "      <th>Martial Status</th>\n",
       "      <th>Divorced</th>\n",
       "      <th>Married</th>\n",
       "      <th>Partnered</th>\n",
       "      <th>Single</th>\n",
       "      <th>Widowed</th>\n",
       "    </tr>\n",
       "    <tr>\n",
       "      <th>Designation</th>\n",
       "      <th></th>\n",
       "      <th></th>\n",
       "      <th></th>\n",
       "      <th></th>\n",
       "      <th></th>\n",
       "    </tr>\n",
       "  </thead>\n",
       "  <tbody>\n",
       "    <tr>\n",
       "      <th>Both</th>\n",
       "      <td>142</td>\n",
       "      <td>2661</td>\n",
       "      <td>9</td>\n",
       "      <td>138</td>\n",
       "      <td>317</td>\n",
       "    </tr>\n",
       "    <tr>\n",
       "      <th>Leader</th>\n",
       "      <td>27</td>\n",
       "      <td>434</td>\n",
       "      <td>0</td>\n",
       "      <td>32</td>\n",
       "      <td>83</td>\n",
       "    </tr>\n",
       "    <tr>\n",
       "      <th>Loyal</th>\n",
       "      <td>702</td>\n",
       "      <td>11100</td>\n",
       "      <td>19</td>\n",
       "      <td>961</td>\n",
       "      <td>860</td>\n",
       "    </tr>\n",
       "  </tbody>\n",
       "</table>\n",
       "</div>"
      ],
      "text/plain": [
       "Martial Status  Divorced  Married  Partnered  Single  Widowed\n",
       "Designation                                                  \n",
       "Both                 142     2661          9     138      317\n",
       "Leader                27      434          0      32       83\n",
       "Loyal                702    11100         19     961      860"
      ]
     },
     "execution_count": 60,
     "metadata": {},
     "output_type": "execute_result"
    }
   ],
   "source": [
    "llb_2 = master.groupby(['Designation','Martial Status']).size().unstack(fill_value=0)\n",
    "llb_2"
   ]
  },
  {
   "cell_type": "markdown",
   "id": "d73895c6-dc5f-4b7a-8dbe-ff5d1d6b1a66",
   "metadata": {
    "tags": []
   },
   "source": [
    "## Donors by Graduating Class"
   ]
  },
  {
   "cell_type": "markdown",
   "id": "01fd59cb-f8d5-4096-b4a3-29f1fe3ab660",
   "metadata": {},
   "source": [
    "**Leader Donors by Class**"
   ]
  },
  {
   "cell_type": "code",
   "execution_count": 61,
   "id": "13883346-98c4-49a9-8120-e581dcc6189e",
   "metadata": {},
   "outputs": [
    {
     "data": {
      "text/html": [
       "<div>\n",
       "<style scoped>\n",
       "    .dataframe tbody tr th:only-of-type {\n",
       "        vertical-align: middle;\n",
       "    }\n",
       "\n",
       "    .dataframe tbody tr th {\n",
       "        vertical-align: top;\n",
       "    }\n",
       "\n",
       "    .dataframe thead th {\n",
       "        text-align: right;\n",
       "    }\n",
       "</style>\n",
       "<table border=\"1\" class=\"dataframe\">\n",
       "  <thead>\n",
       "    <tr style=\"text-align: right;\">\n",
       "      <th>Designation</th>\n",
       "      <th>Leader</th>\n",
       "    </tr>\n",
       "    <tr>\n",
       "      <th>Class of</th>\n",
       "      <th></th>\n",
       "    </tr>\n",
       "  </thead>\n",
       "  <tbody>\n",
       "    <tr>\n",
       "      <th>'64</th>\n",
       "      <td>11</td>\n",
       "    </tr>\n",
       "    <tr>\n",
       "      <th>'79</th>\n",
       "      <td>12</td>\n",
       "    </tr>\n",
       "    <tr>\n",
       "      <th>'80</th>\n",
       "      <td>12</td>\n",
       "    </tr>\n",
       "    <tr>\n",
       "      <th>'84</th>\n",
       "      <td>10</td>\n",
       "    </tr>\n",
       "    <tr>\n",
       "      <th>'90</th>\n",
       "      <td>13</td>\n",
       "    </tr>\n",
       "  </tbody>\n",
       "</table>\n",
       "</div>"
      ],
      "text/plain": [
       "Designation  Leader\n",
       "Class of           \n",
       "'64              11\n",
       "'79              12\n",
       "'80              12\n",
       "'84              10\n",
       "'90              13"
      ]
     },
     "execution_count": 61,
     "metadata": {},
     "output_type": "execute_result"
    }
   ],
   "source": [
    "gl = master.groupby('Designation').get_group('Leader')\n",
    "gl.groupby(['Designation', 'Class of'])['Class of'].count().nlargest(5).unstack('Designation').fillna(0)"
   ]
  },
  {
   "cell_type": "markdown",
   "id": "162d85ee-96e2-4962-8363-c2407a3b69d7",
   "metadata": {},
   "source": [
    "**Loyal Donors by Class**"
   ]
  },
  {
   "cell_type": "code",
   "execution_count": 62,
   "id": "6871700a-9258-48b4-99fb-ead6a257d473",
   "metadata": {},
   "outputs": [
    {
     "data": {
      "text/html": [
       "<div>\n",
       "<style scoped>\n",
       "    .dataframe tbody tr th:only-of-type {\n",
       "        vertical-align: middle;\n",
       "    }\n",
       "\n",
       "    .dataframe tbody tr th {\n",
       "        vertical-align: top;\n",
       "    }\n",
       "\n",
       "    .dataframe thead th {\n",
       "        text-align: right;\n",
       "    }\n",
       "</style>\n",
       "<table border=\"1\" class=\"dataframe\">\n",
       "  <thead>\n",
       "    <tr style=\"text-align: right;\">\n",
       "      <th>Designation</th>\n",
       "      <th>Loyal</th>\n",
       "    </tr>\n",
       "    <tr>\n",
       "      <th>Class of</th>\n",
       "      <th></th>\n",
       "    </tr>\n",
       "  </thead>\n",
       "  <tbody>\n",
       "    <tr>\n",
       "      <th>'70</th>\n",
       "      <td>289</td>\n",
       "    </tr>\n",
       "    <tr>\n",
       "      <th>'71</th>\n",
       "      <td>274</td>\n",
       "    </tr>\n",
       "    <tr>\n",
       "      <th>'72</th>\n",
       "      <td>297</td>\n",
       "    </tr>\n",
       "    <tr>\n",
       "      <th>'73</th>\n",
       "      <td>337</td>\n",
       "    </tr>\n",
       "    <tr>\n",
       "      <th>'74</th>\n",
       "      <td>296</td>\n",
       "    </tr>\n",
       "  </tbody>\n",
       "</table>\n",
       "</div>"
      ],
      "text/plain": [
       "Designation  Loyal\n",
       "Class of          \n",
       "'70            289\n",
       "'71            274\n",
       "'72            297\n",
       "'73            337\n",
       "'74            296"
      ]
     },
     "execution_count": 62,
     "metadata": {},
     "output_type": "execute_result"
    }
   ],
   "source": [
    "gl2 = master.groupby('Designation').get_group('Loyal')\n",
    "gl2.groupby(['Designation', 'Class of'])['Class of'].count().nlargest(5).unstack('Designation').fillna(0)"
   ]
  },
  {
   "cell_type": "markdown",
   "id": "b310bd8c-5c5b-402b-a8f5-f0184796afc3",
   "metadata": {},
   "source": [
    "**Loyals & Leaders by Class**"
   ]
  },
  {
   "cell_type": "code",
   "execution_count": 63,
   "id": "c99ee171-25e9-4480-b11d-f51fe9782281",
   "metadata": {},
   "outputs": [
    {
     "data": {
      "text/html": [
       "<div>\n",
       "<style scoped>\n",
       "    .dataframe tbody tr th:only-of-type {\n",
       "        vertical-align: middle;\n",
       "    }\n",
       "\n",
       "    .dataframe tbody tr th {\n",
       "        vertical-align: top;\n",
       "    }\n",
       "\n",
       "    .dataframe thead th {\n",
       "        text-align: right;\n",
       "    }\n",
       "</style>\n",
       "<table border=\"1\" class=\"dataframe\">\n",
       "  <thead>\n",
       "    <tr style=\"text-align: right;\">\n",
       "      <th>Designation</th>\n",
       "      <th>Both</th>\n",
       "    </tr>\n",
       "    <tr>\n",
       "      <th>Class of</th>\n",
       "      <th></th>\n",
       "    </tr>\n",
       "  </thead>\n",
       "  <tbody>\n",
       "    <tr>\n",
       "      <th>'69</th>\n",
       "      <td>78</td>\n",
       "    </tr>\n",
       "    <tr>\n",
       "      <th>'71</th>\n",
       "      <td>65</td>\n",
       "    </tr>\n",
       "    <tr>\n",
       "      <th>'72</th>\n",
       "      <td>70</td>\n",
       "    </tr>\n",
       "    <tr>\n",
       "      <th>'77</th>\n",
       "      <td>75</td>\n",
       "    </tr>\n",
       "    <tr>\n",
       "      <th>'80</th>\n",
       "      <td>68</td>\n",
       "    </tr>\n",
       "  </tbody>\n",
       "</table>\n",
       "</div>"
      ],
      "text/plain": [
       "Designation  Both\n",
       "Class of         \n",
       "'69            78\n",
       "'71            65\n",
       "'72            70\n",
       "'77            75\n",
       "'80            68"
      ]
     },
     "execution_count": 63,
     "metadata": {},
     "output_type": "execute_result"
    }
   ],
   "source": [
    "gl3 = master.groupby('Designation').get_group('Both')\n",
    "gl3.groupby(['Designation', 'Class of'])['Class of'].count().nlargest(5).unstack('Designation').fillna(0)"
   ]
  },
  {
   "cell_type": "markdown",
   "id": "a29dbc3d-eec5-4fff-b7b1-d05f1e94ceff",
   "metadata": {
    "tags": []
   },
   "source": [
    "## Donors by College"
   ]
  },
  {
   "cell_type": "code",
   "execution_count": 64,
   "id": "29f36d8a-0c9b-4286-ae0a-40650178e9e0",
   "metadata": {},
   "outputs": [
    {
     "data": {
      "text/html": [
       "<div>\n",
       "<style scoped>\n",
       "    .dataframe tbody tr th:only-of-type {\n",
       "        vertical-align: middle;\n",
       "    }\n",
       "\n",
       "    .dataframe tbody tr th {\n",
       "        vertical-align: top;\n",
       "    }\n",
       "\n",
       "    .dataframe thead th {\n",
       "        text-align: right;\n",
       "    }\n",
       "</style>\n",
       "<table border=\"1\" class=\"dataframe\">\n",
       "  <thead>\n",
       "    <tr style=\"text-align: right;\">\n",
       "      <th>Designation</th>\n",
       "      <th>Both</th>\n",
       "      <th>Leader</th>\n",
       "      <th>Loyal</th>\n",
       "      <th>Total</th>\n",
       "    </tr>\n",
       "    <tr>\n",
       "      <th>College</th>\n",
       "      <th></th>\n",
       "      <th></th>\n",
       "      <th></th>\n",
       "      <th></th>\n",
       "    </tr>\n",
       "  </thead>\n",
       "  <tbody>\n",
       "    <tr>\n",
       "      <th>MCOB Miller College of Business</th>\n",
       "      <td>716</td>\n",
       "      <td>92</td>\n",
       "      <td>2688</td>\n",
       "      <td>3496</td>\n",
       "    </tr>\n",
       "    <tr>\n",
       "      <th>CSH College of Sciences &amp; Humanities</th>\n",
       "      <td>528</td>\n",
       "      <td>96</td>\n",
       "      <td>2839</td>\n",
       "      <td>3463</td>\n",
       "    </tr>\n",
       "    <tr>\n",
       "      <th>TC Teachers College</th>\n",
       "      <td>399</td>\n",
       "      <td>63</td>\n",
       "      <td>2680</td>\n",
       "      <td>3142</td>\n",
       "    </tr>\n",
       "    <tr>\n",
       "      <th>COH College of Health</th>\n",
       "      <td>253</td>\n",
       "      <td>44</td>\n",
       "      <td>1700</td>\n",
       "      <td>1997</td>\n",
       "    </tr>\n",
       "    <tr>\n",
       "      <th>CCIM College of Communication, Information and Media</th>\n",
       "      <td>183</td>\n",
       "      <td>40</td>\n",
       "      <td>1008</td>\n",
       "      <td>1231</td>\n",
       "    </tr>\n",
       "    <tr>\n",
       "      <th>CFA College of Fine Arts</th>\n",
       "      <td>82</td>\n",
       "      <td>21</td>\n",
       "      <td>683</td>\n",
       "      <td>786</td>\n",
       "    </tr>\n",
       "    <tr>\n",
       "      <th>No College/Interdepartmental</th>\n",
       "      <td>100</td>\n",
       "      <td>27</td>\n",
       "      <td>657</td>\n",
       "      <td>784</td>\n",
       "    </tr>\n",
       "    <tr>\n",
       "      <th>CAP College of Architecture &amp; Planning</th>\n",
       "      <td>89</td>\n",
       "      <td>27</td>\n",
       "      <td>332</td>\n",
       "      <td>448</td>\n",
       "    </tr>\n",
       "  </tbody>\n",
       "</table>\n",
       "</div>"
      ],
      "text/plain": [
       "Designation                                         Both  Leader  Loyal  Total\n",
       "College                                                                       \n",
       "MCOB Miller College of Business                      716      92   2688   3496\n",
       "CSH College of Sciences & Humanities                 528      96   2839   3463\n",
       "TC Teachers College                                  399      63   2680   3142\n",
       "COH College of Health                                253      44   1700   1997\n",
       "CCIM College of Communication, Information and ...   183      40   1008   1231\n",
       "CFA College of Fine Arts                              82      21    683    786\n",
       "No College/Interdepartmental                         100      27    657    784\n",
       "CAP College of Architecture & Planning                89      27    332    448"
      ]
     },
     "execution_count": 64,
     "metadata": {},
     "output_type": "execute_result"
    },
    {
     "data": {
      "image/png": "[encoded data removed]",
      "text/plain": [
       "<Figure size 432x288 with 1 Axes>"
      ]
     },
     "metadata": {
      "needs_background": "light"
     },
     "output_type": "display_data"
    }
   ],
   "source": [
    "v_1 = master.groupby(['College', 'Designation'])['College'].count().unstack('Designation').fillna(0)\n",
    "v_1['Total']= v_1['Both'] + v_1['Leader'] + v_1['Loyal']\n",
    "v_1 = v_1.sort_values(\"Total\", ascending = False)\n",
    "v1 = v_1 [['Loyal','Leader','Both']].plot(kind='bar', stacked=True, title ='Total Donors by College - Loyal/Leader/Both', color =['b','y','r'])\n",
    "v_1"
   ]
  },
  {
   "cell_type": "markdown",
   "id": "5c2c82f5-0b51-4a07-8dff-1cfd4151863f",
   "metadata": {},
   "source": [
    "### Donors by Departments in the Business College"
   ]
  },
  {
   "cell_type": "code",
   "execution_count": 65,
   "id": "13ab616e-5d59-48de-8ba3-76ebb5a35e6e",
   "metadata": {},
   "outputs": [
    {
     "data": {
      "text/html": [
       "<div>\n",
       "<style scoped>\n",
       "    .dataframe tbody tr th:only-of-type {\n",
       "        vertical-align: middle;\n",
       "    }\n",
       "\n",
       "    .dataframe tbody tr th {\n",
       "        vertical-align: top;\n",
       "    }\n",
       "\n",
       "    .dataframe thead th {\n",
       "        text-align: right;\n",
       "    }\n",
       "</style>\n",
       "<table border=\"1\" class=\"dataframe\">\n",
       "  <thead>\n",
       "    <tr style=\"text-align: right;\">\n",
       "      <th>Department</th>\n",
       "      <th>College of Business</th>\n",
       "      <th>Dept of Accounting</th>\n",
       "      <th>Dept of Information Systems &amp; Operations Mgt</th>\n",
       "      <th>Dept of Management</th>\n",
       "      <th>Dept of Marketing</th>\n",
       "    </tr>\n",
       "    <tr>\n",
       "      <th>College</th>\n",
       "      <th></th>\n",
       "      <th></th>\n",
       "      <th></th>\n",
       "      <th></th>\n",
       "      <th></th>\n",
       "    </tr>\n",
       "  </thead>\n",
       "  <tbody>\n",
       "    <tr>\n",
       "      <th>MCOB Miller College of Business</th>\n",
       "      <td>769</td>\n",
       "      <td>861</td>\n",
       "      <td>598</td>\n",
       "      <td>348</td>\n",
       "      <td>518</td>\n",
       "    </tr>\n",
       "  </tbody>\n",
       "</table>\n",
       "</div>"
      ],
      "text/plain": [
       "Department                       College of Business   Dept of Accounting  \\\n",
       "College                                                                     \n",
       "MCOB Miller College of Business                   769                 861   \n",
       "\n",
       "Department                       Dept of Information Systems & Operations Mgt  \\\n",
       "College                                                                         \n",
       "MCOB Miller College of Business                                           598   \n",
       "\n",
       "Department                       Dept of Management  Dept of Marketing  \n",
       "College                                                                 \n",
       "MCOB Miller College of Business                 348                518  "
      ]
     },
     "execution_count": 65,
     "metadata": {},
     "output_type": "execute_result"
    }
   ],
   "source": [
    "A1 = master.groupby('College').get_group('MCOB Miller College of Business')\n",
    "A1.groupby(['College','Department'])['Department'].count().nlargest(5).unstack('Department').fillna(0)"
   ]
  },
  {
   "cell_type": "markdown",
   "id": "ee860a5e-b158-4c00-ac2d-17e494ce8496",
   "metadata": {},
   "source": [
    "### Donors by Departments in the Science & Humanities College"
   ]
  },
  {
   "cell_type": "code",
   "execution_count": 66,
   "id": "c3d046d3-7ded-49d5-9dc1-bcc49c898787",
   "metadata": {},
   "outputs": [
    {
     "data": {
      "text/html": [
       "<div>\n",
       "<style scoped>\n",
       "    .dataframe tbody tr th:only-of-type {\n",
       "        vertical-align: middle;\n",
       "    }\n",
       "\n",
       "    .dataframe tbody tr th {\n",
       "        vertical-align: top;\n",
       "    }\n",
       "\n",
       "    .dataframe thead th {\n",
       "        text-align: right;\n",
       "    }\n",
       "</style>\n",
       "<table border=\"1\" class=\"dataframe\">\n",
       "  <thead>\n",
       "    <tr style=\"text-align: right;\">\n",
       "      <th>Department</th>\n",
       "      <th>College of Sciences and Humanities</th>\n",
       "      <th>Dept of Biology</th>\n",
       "      <th>Dept of English</th>\n",
       "      <th>Dept of Mathematical Sciences</th>\n",
       "      <th>Dept of Psychological Science</th>\n",
       "    </tr>\n",
       "    <tr>\n",
       "      <th>College</th>\n",
       "      <th></th>\n",
       "      <th></th>\n",
       "      <th></th>\n",
       "      <th></th>\n",
       "      <th></th>\n",
       "    </tr>\n",
       "  </thead>\n",
       "  <tbody>\n",
       "    <tr>\n",
       "      <th>CSH College of Sciences &amp; Humanities</th>\n",
       "      <td>544</td>\n",
       "      <td>401</td>\n",
       "      <td>458</td>\n",
       "      <td>341</td>\n",
       "      <td>257</td>\n",
       "    </tr>\n",
       "  </tbody>\n",
       "</table>\n",
       "</div>"
      ],
      "text/plain": [
       "Department                            College of Sciences and Humanities  \\\n",
       "College                                                                    \n",
       "CSH College of Sciences & Humanities                                 544   \n",
       "\n",
       "Department                            Dept of Biology  Dept of English  \\\n",
       "College                                                                  \n",
       "CSH College of Sciences & Humanities              401              458   \n",
       "\n",
       "Department                            Dept of Mathematical Sciences  \\\n",
       "College                                                               \n",
       "CSH College of Sciences & Humanities                            341   \n",
       "\n",
       "Department                            Dept of Psychological Science  \n",
       "College                                                              \n",
       "CSH College of Sciences & Humanities                            257  "
      ]
     },
     "execution_count": 66,
     "metadata": {},
     "output_type": "execute_result"
    }
   ],
   "source": [
    "A2 = master.groupby('College').get_group('CSH College of Sciences & Humanities')\n",
    "A2.groupby(['College','Department'])['Department'].count().nlargest(5).unstack('Department').fillna(0)"
   ]
  },
  {
   "cell_type": "markdown",
   "id": "d6d4304a-a524-4616-b153-391cd669656b",
   "metadata": {},
   "source": [
    "### Donors by Departments in the Teachers College"
   ]
  },
  {
   "cell_type": "code",
   "execution_count": 67,
   "id": "f7568f19-782b-4c88-a420-112bbbdb7513",
   "metadata": {},
   "outputs": [
    {
     "data": {
      "text/html": [
       "<div>\n",
       "<style scoped>\n",
       "    .dataframe tbody tr th:only-of-type {\n",
       "        vertical-align: middle;\n",
       "    }\n",
       "\n",
       "    .dataframe tbody tr th {\n",
       "        vertical-align: top;\n",
       "    }\n",
       "\n",
       "    .dataframe thead th {\n",
       "        text-align: right;\n",
       "    }\n",
       "</style>\n",
       "<table border=\"1\" class=\"dataframe\">\n",
       "  <thead>\n",
       "    <tr style=\"text-align: right;\">\n",
       "      <th>Department</th>\n",
       "      <th>Dept of Educational Leadership</th>\n",
       "      <th>Dept of Educational Studies</th>\n",
       "      <th>Dept of Elementary Education</th>\n",
       "      <th>Dept of Special Education</th>\n",
       "      <th>Family Consumer &amp; Technology Education</th>\n",
       "    </tr>\n",
       "    <tr>\n",
       "      <th>College</th>\n",
       "      <th></th>\n",
       "      <th></th>\n",
       "      <th></th>\n",
       "      <th></th>\n",
       "      <th></th>\n",
       "    </tr>\n",
       "  </thead>\n",
       "  <tbody>\n",
       "    <tr>\n",
       "      <th>TC Teachers College</th>\n",
       "      <td>186</td>\n",
       "      <td>117</td>\n",
       "      <td>1885</td>\n",
       "      <td>233</td>\n",
       "      <td>620</td>\n",
       "    </tr>\n",
       "  </tbody>\n",
       "</table>\n",
       "</div>"
      ],
      "text/plain": [
       "Department           Dept of Educational Leadership  \\\n",
       "College                                               \n",
       "TC Teachers College                             186   \n",
       "\n",
       "Department           Dept of Educational Studies  \\\n",
       "College                                            \n",
       "TC Teachers College                          117   \n",
       "\n",
       "Department           Dept of Elementary Education  Dept of Special Education  \\\n",
       "College                                                                        \n",
       "TC Teachers College                          1885                        233   \n",
       "\n",
       "Department           Family Consumer & Technology Education  \n",
       "College                                                      \n",
       "TC Teachers College                                     620  "
      ]
     },
     "execution_count": 67,
     "metadata": {},
     "output_type": "execute_result"
    }
   ],
   "source": [
    "A3 = master.groupby('College').get_group('TC Teachers College')\n",
    "A3.groupby(['College','Department'])['Department'].count().nlargest(5).unstack('Department').fillna(0)"
   ]
  },
  {
   "cell_type": "markdown",
   "id": "bca65567-cf03-4c06-8b62-1f59c05e91c5",
   "metadata": {},
   "source": [
    "## Donors by Greek Designation"
   ]
  },
  {
   "cell_type": "code",
   "execution_count": 68,
   "id": "f2094b1d-8b4e-461e-87ed-52209c21e96e",
   "metadata": {},
   "outputs": [],
   "source": [
    "k_1 = master.groupby(['Greek Affiliation', 'Designation'])['Greek Affiliation'].count().unstack('Designation').fillna(0)\n",
    "k_1['Total'] = k_1['Both'] + k_1['Leader'] + k_1['Loyal']\n",
    "k_1 = k_1.sort_values(\"Total\", ascending = False)"
   ]
  },
  {
   "cell_type": "code",
   "execution_count": 69,
   "id": "fcb27249-add9-4b56-818e-f93ec48106fa",
   "metadata": {},
   "outputs": [
    {
     "data": {
      "image/png": "[encoded data removed]",
      "text/plain": [
       "<Figure size 792x432 with 1 Axes>"
      ]
     },
     "metadata": {
      "needs_background": "light"
     },
     "output_type": "display_data"
    }
   ],
   "source": [
    "k_1_top = k_1.nlargest(10, [\"Total\"])\n",
    "k2 = k_1_top [['Loyal','Leader','Both']].plot(kind='bar', stacked = True, title ='Total Donors by College - Loyal/Leader/Both', rot=30, color =['b','y','r'],figsize=(11,6))"
   ]
  },
  {
   "cell_type": "markdown",
   "id": "6f133e4e-8658-431e-aab9-5ce9c9260546",
   "metadata": {},
   "source": [
    "## Donors in Sigma Phi Epsilon"
   ]
  },
  {
   "cell_type": "markdown",
   "id": "2be9ee89-d276-42f9-b69c-e3d84166ed06",
   "metadata": {},
   "source": [
    "**By College**"
   ]
  },
  {
   "cell_type": "code",
   "execution_count": 70,
   "id": "195c97c1-73a5-46c8-b2b0-53b3a25d3c7b",
   "metadata": {},
   "outputs": [
    {
     "data": {
      "text/html": [
       "<div>\n",
       "<style scoped>\n",
       "    .dataframe tbody tr th:only-of-type {\n",
       "        vertical-align: middle;\n",
       "    }\n",
       "\n",
       "    .dataframe tbody tr th {\n",
       "        vertical-align: top;\n",
       "    }\n",
       "\n",
       "    .dataframe thead th {\n",
       "        text-align: right;\n",
       "    }\n",
       "</style>\n",
       "<table border=\"1\" class=\"dataframe\">\n",
       "  <thead>\n",
       "    <tr style=\"text-align: right;\">\n",
       "      <th>College</th>\n",
       "      <th>CCIM College of Communication, Information and Media</th>\n",
       "      <th>COH College of Health</th>\n",
       "      <th>CSH College of Sciences &amp; Humanities</th>\n",
       "      <th>MCOB Miller College of Business</th>\n",
       "      <th>TC Teachers College</th>\n",
       "    </tr>\n",
       "    <tr>\n",
       "      <th>Greek Affiliation</th>\n",
       "      <th></th>\n",
       "      <th></th>\n",
       "      <th></th>\n",
       "      <th></th>\n",
       "      <th></th>\n",
       "    </tr>\n",
       "  </thead>\n",
       "  <tbody>\n",
       "    <tr>\n",
       "      <th>Sigma Phi Epsilon</th>\n",
       "      <td>13</td>\n",
       "      <td>60</td>\n",
       "      <td>80</td>\n",
       "      <td>101</td>\n",
       "      <td>30</td>\n",
       "    </tr>\n",
       "  </tbody>\n",
       "</table>\n",
       "</div>"
      ],
      "text/plain": [
       "College            CCIM College of Communication, Information and Media  \\\n",
       "Greek Affiliation                                                         \n",
       "Sigma Phi Epsilon                                                 13      \n",
       "\n",
       "College            COH College of Health  \\\n",
       "Greek Affiliation                          \n",
       "Sigma Phi Epsilon                     60   \n",
       "\n",
       "College            CSH College of Sciences & Humanities  \\\n",
       "Greek Affiliation                                         \n",
       "Sigma Phi Epsilon                                    80   \n",
       "\n",
       "College            MCOB Miller College of Business  TC Teachers College  \n",
       "Greek Affiliation                                                        \n",
       "Sigma Phi Epsilon                              101                   30  "
      ]
     },
     "execution_count": 70,
     "metadata": {},
     "output_type": "execute_result"
    }
   ],
   "source": [
    "z1 = master.groupby('Greek Affiliation').get_group('Sigma Phi Epsilon')\n",
    "z1.groupby(['College','Greek Affiliation'])['College'].count().nlargest(5).unstack('College').fillna(0)"
   ]
  },
  {
   "cell_type": "markdown",
   "id": "b2d1aebf-418a-4454-a9b6-df6acefb94a0",
   "metadata": {},
   "source": [
    "**Top Five Donors By Class**"
   ]
  },
  {
   "cell_type": "code",
   "execution_count": 71,
   "id": "6e7fc093-e30a-4337-a8a7-3ca40f7786a0",
   "metadata": {},
   "outputs": [
    {
     "data": {
      "text/html": [
       "<div>\n",
       "<style scoped>\n",
       "    .dataframe tbody tr th:only-of-type {\n",
       "        vertical-align: middle;\n",
       "    }\n",
       "\n",
       "    .dataframe tbody tr th {\n",
       "        vertical-align: top;\n",
       "    }\n",
       "\n",
       "    .dataframe thead th {\n",
       "        text-align: right;\n",
       "    }\n",
       "</style>\n",
       "<table border=\"1\" class=\"dataframe\">\n",
       "  <thead>\n",
       "    <tr style=\"text-align: right;\">\n",
       "      <th>Class of</th>\n",
       "      <th>'59</th>\n",
       "      <th>'60</th>\n",
       "      <th>'61</th>\n",
       "      <th>'64</th>\n",
       "      <th>'67</th>\n",
       "    </tr>\n",
       "    <tr>\n",
       "      <th>Greek Affiliation</th>\n",
       "      <th></th>\n",
       "      <th></th>\n",
       "      <th></th>\n",
       "      <th></th>\n",
       "      <th></th>\n",
       "    </tr>\n",
       "  </thead>\n",
       "  <tbody>\n",
       "    <tr>\n",
       "      <th>Sigma Phi Epsilon</th>\n",
       "      <td>23</td>\n",
       "      <td>13</td>\n",
       "      <td>13</td>\n",
       "      <td>13</td>\n",
       "      <td>12</td>\n",
       "    </tr>\n",
       "  </tbody>\n",
       "</table>\n",
       "</div>"
      ],
      "text/plain": [
       "Class of           '59  '60  '61  '64  '67\n",
       "Greek Affiliation                         \n",
       "Sigma Phi Epsilon   23   13   13   13   12"
      ]
     },
     "execution_count": 71,
     "metadata": {},
     "output_type": "execute_result"
    }
   ],
   "source": [
    "z1.groupby(['Class of','Greek Affiliation'])['Class of'].count().nlargest(5).unstack('Class of').fillna(0)"
   ]
  },
  {
   "cell_type": "markdown",
   "id": "b487d1cf-e7fd-47e9-9faf-ab3f9253d698",
   "metadata": {},
   "source": [
    "**Top 10 Donors by Class**"
   ]
  },
  {
   "cell_type": "code",
   "execution_count": 72,
   "id": "ca779bec-90cf-4d96-9390-4fd4c93151fb",
   "metadata": {},
   "outputs": [
    {
     "data": {
      "text/html": [
       "<div>\n",
       "<style scoped>\n",
       "    .dataframe tbody tr th:only-of-type {\n",
       "        vertical-align: middle;\n",
       "    }\n",
       "\n",
       "    .dataframe tbody tr th {\n",
       "        vertical-align: top;\n",
       "    }\n",
       "\n",
       "    .dataframe thead th {\n",
       "        text-align: right;\n",
       "    }\n",
       "</style>\n",
       "<table border=\"1\" class=\"dataframe\">\n",
       "  <thead>\n",
       "    <tr style=\"text-align: right;\">\n",
       "      <th>Class of</th>\n",
       "      <th>'58</th>\n",
       "      <th>'59</th>\n",
       "      <th>'60</th>\n",
       "      <th>'61</th>\n",
       "      <th>'63</th>\n",
       "      <th>'64</th>\n",
       "      <th>'67</th>\n",
       "      <th>'69</th>\n",
       "      <th>'70</th>\n",
       "      <th>'77</th>\n",
       "    </tr>\n",
       "    <tr>\n",
       "      <th>Greek Affiliation</th>\n",
       "      <th></th>\n",
       "      <th></th>\n",
       "      <th></th>\n",
       "      <th></th>\n",
       "      <th></th>\n",
       "      <th></th>\n",
       "      <th></th>\n",
       "      <th></th>\n",
       "      <th></th>\n",
       "      <th></th>\n",
       "    </tr>\n",
       "  </thead>\n",
       "  <tbody>\n",
       "    <tr>\n",
       "      <th>Sigma Phi Epsilon</th>\n",
       "      <td>9</td>\n",
       "      <td>23</td>\n",
       "      <td>13</td>\n",
       "      <td>13</td>\n",
       "      <td>10</td>\n",
       "      <td>13</td>\n",
       "      <td>12</td>\n",
       "      <td>10</td>\n",
       "      <td>12</td>\n",
       "      <td>11</td>\n",
       "    </tr>\n",
       "  </tbody>\n",
       "</table>\n",
       "</div>"
      ],
      "text/plain": [
       "Class of           '58  '59  '60  '61  '63  '64  '67  '69  '70  '77\n",
       "Greek Affiliation                                                  \n",
       "Sigma Phi Epsilon    9   23   13   13   10   13   12   10   12   11"
      ]
     },
     "execution_count": 72,
     "metadata": {},
     "output_type": "execute_result"
    }
   ],
   "source": [
    "z1.groupby(['Class of','Greek Affiliation'])['Class of'].count().nlargest(10).unstack('Class of').fillna(0)"
   ]
  }
 ],
 "metadata": {
  "kernelspec": {
   "display_name": "Python 3 (ipykernel)",
   "language": "python",
   "name": "python3"
  },
  "language_info": {
   "codemirror_mode": {
    "name": "ipython",
    "version": 3
   },
   "file_extension": ".py",
   "mimetype": "text/x-python",
   "name": "python",
   "nbconvert_exporter": "python",
   "pygments_lexer": "ipython3",
   "version": "3.9.7"
  }
 },
 "nbformat": 4,
 "nbformat_minor": 5
}
